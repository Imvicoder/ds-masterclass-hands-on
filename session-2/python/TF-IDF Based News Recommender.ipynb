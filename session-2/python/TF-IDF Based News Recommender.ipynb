{
 "cells": [
  {
   "cell_type": "markdown",
   "metadata": {
    "collapsed": true
   },
   "source": [
    "# TF-IDF based Recommender System\n",
    "\n",
    "### Recommender System based on tf-idf as vector representation of documents"
   ]
  },
  {
   "cell_type": "markdown",
   "metadata": {},
   "source": [
    "# TF-IDF Based Recommender\n",
    "1. Represent articles in terms of bag of words\n",
    "2. Represent user in terms of read articles associated words\n",
    "3. Generate TF-IDF matrix for user read articles and unread articles\n",
    "4. Calculate cosine similarity between user read articles and unread articles \n",
    "5. Get the recommended articles "
   ]
  },
  {
   "cell_type": "markdown",
   "metadata": {},
   "source": [
    "**Describing parameters**:\n",
    "\n",
    "*1. PATH_NEWS_ARTICLES: specify the path where news_article.csv is present*  <br/>\n",
    "*2. ARTICLES_READ: List of Article_Ids read by the user*  <br/>\n",
    "*3. NO_RECOMMENDED_ARTICLES: Refers to the number of recommended articles as a result*"
   ]
  },
  {
   "cell_type": "code",
   "execution_count": 74,
   "metadata": {
    "collapsed": true
   },
   "outputs": [],
   "source": [
    "PATH_NEWS_ARTICLES=\"/Users/sourabhrohilla/Downloads/Final/news_articles.csv\"\n",
    "ARTICLES_READ=[7,6,76,61,761]\n",
    "NUM_RECOMMENDED_ARTICLES=5"
   ]
  },
  {
   "cell_type": "code",
   "execution_count": 61,
   "metadata": {
    "collapsed": false
   },
   "outputs": [],
   "source": [
    "try:\n",
    "    import numpy\n",
    "    import pandas as pd\n",
    "    import pickle as pk\n",
    "    from sklearn.feature_extraction.text import TfidfVectorizer\n",
    "    from sklearn.metrics.pairwise import cosine_similarity\n",
    "    import re\n",
    "    from nltk.stem.snowball import SnowballStemmer\n",
    "    import nltk\n",
    "    stemmer = SnowballStemmer(\"english\")\n",
    "except ImportError:\n",
    "    print('You are missing some packages! ' \\\n",
    "          'We will try installing them before continuing!')\n",
    "    !pip install \"numpy\" \"pandas\" \"sklearn\" \"nltk\"\n",
    "    import numpy\n",
    "    import pandas as pd\n",
    "    import pickle as pk\n",
    "    from sklearn.feature_extraction.text import TfidfVectorizer\n",
    "    from sklearn.metrics.pairwise import cosine_similarity\n",
    "    import re\n",
    "    from nltk.stem.snowball import SnowballStemmer\n",
    "    import nltk\n",
    "    stemmer = SnowballStemmer(\"english\")\n",
    "    print('Done!')"
   ]
  },
  {
   "cell_type": "markdown",
   "metadata": {},
   "source": [
    "## 1. Represent articles in terms of bag of words\n",
    "\n",
    "1. Reading the csv file to get the Article id, Title and News Content\n",
    "2. Remove punctuation marks and other symbols from each article\n",
    "3. Tokenize each article\n",
    "4. Stem token of every article"
   ]
  },
  {
   "cell_type": "code",
   "execution_count": 62,
   "metadata": {
    "collapsed": false
   },
   "outputs": [
    {
     "data": {
      "text/html": [
       "<div>\n",
       "<table border=\"1\" class=\"dataframe\">\n",
       "  <thead>\n",
       "    <tr style=\"text-align: right;\">\n",
       "      <th></th>\n",
       "      <th>Article_Id</th>\n",
       "      <th>Title</th>\n",
       "      <th>Author</th>\n",
       "      <th>Date</th>\n",
       "      <th>Content</th>\n",
       "      <th>URL</th>\n",
       "    </tr>\n",
       "  </thead>\n",
       "  <tbody>\n",
       "    <tr>\n",
       "      <th>0</th>\n",
       "      <td>0</td>\n",
       "      <td>14 dead after bus falls into canal in Telangan...</td>\n",
       "      <td>Devyani Sultania</td>\n",
       "      <td>August 22, 2016 12:34 IST</td>\n",
       "      <td>At least 14 people died and 17 others were inj...</td>\n",
       "      <td>http://www.ibtimes.co.in/14-dead-after-bus-fal...</td>\n",
       "    </tr>\n",
       "    <tr>\n",
       "      <th>1</th>\n",
       "      <td>1</td>\n",
       "      <td>Pratibha Tiwari molested on busy road   Saath ...</td>\n",
       "      <td>Suparno Sarkar</td>\n",
       "      <td>August 22, 2016 19:47 IST</td>\n",
       "      <td>TV actress Pratibha Tiwari  who is best known ...</td>\n",
       "      <td>NaN</td>\n",
       "    </tr>\n",
       "    <tr>\n",
       "      <th>2</th>\n",
       "      <td>2</td>\n",
       "      <td>US  South Korea begin joint military drill ami...</td>\n",
       "      <td>Namrata Tripathi</td>\n",
       "      <td>August 22, 2016 18:10 IST</td>\n",
       "      <td>The United States and South Korea began a join...</td>\n",
       "      <td>http://www.ibtimes.co.in/us-south-korea-begin-...</td>\n",
       "    </tr>\n",
       "    <tr>\n",
       "      <th>3</th>\n",
       "      <td>3</td>\n",
       "      <td>Illegal construction in Bengaluru  Will my hou...</td>\n",
       "      <td>S V Krishnamachari</td>\n",
       "      <td>August 22, 2016 17:39 IST</td>\n",
       "      <td>The relentless drive by Bengaluru s  Bangalore...</td>\n",
       "      <td>http://www.ibtimes.co.in/illegal-construction-...</td>\n",
       "    </tr>\n",
       "    <tr>\n",
       "      <th>4</th>\n",
       "      <td>4</td>\n",
       "      <td>Punjab Gau Rakshak Dal chief held for assaulti...</td>\n",
       "      <td>Pranshu Rathee</td>\n",
       "      <td>August 22, 2016 17:34 IST</td>\n",
       "      <td>Punjab Gau Raksha Dal chief Satish Kumar and h...</td>\n",
       "      <td>http://www.ibtimes.co.in/punjab-gau-rakshak-da...</td>\n",
       "    </tr>\n",
       "  </tbody>\n",
       "</table>\n",
       "</div>"
      ],
      "text/plain": [
       "   Article_Id                                              Title  \\\n",
       "0           0  14 dead after bus falls into canal in Telangan...   \n",
       "1           1  Pratibha Tiwari molested on busy road   Saath ...   \n",
       "2           2  US  South Korea begin joint military drill ami...   \n",
       "3           3  Illegal construction in Bengaluru  Will my hou...   \n",
       "4           4  Punjab Gau Rakshak Dal chief held for assaulti...   \n",
       "\n",
       "               Author                       Date  \\\n",
       "0    Devyani Sultania  August 22, 2016 12:34 IST   \n",
       "1      Suparno Sarkar  August 22, 2016 19:47 IST   \n",
       "2    Namrata Tripathi  August 22, 2016 18:10 IST   \n",
       "3  S V Krishnamachari  August 22, 2016 17:39 IST   \n",
       "4      Pranshu Rathee  August 22, 2016 17:34 IST   \n",
       "\n",
       "                                             Content  \\\n",
       "0  At least 14 people died and 17 others were inj...   \n",
       "1  TV actress Pratibha Tiwari  who is best known ...   \n",
       "2  The United States and South Korea began a join...   \n",
       "3  The relentless drive by Bengaluru s  Bangalore...   \n",
       "4  Punjab Gau Raksha Dal chief Satish Kumar and h...   \n",
       "\n",
       "                                                 URL  \n",
       "0  http://www.ibtimes.co.in/14-dead-after-bus-fal...  \n",
       "1                                                NaN  \n",
       "2  http://www.ibtimes.co.in/us-south-korea-begin-...  \n",
       "3  http://www.ibtimes.co.in/illegal-construction-...  \n",
       "4  http://www.ibtimes.co.in/punjab-gau-rakshak-da...  "
      ]
     },
     "execution_count": 62,
     "metadata": {},
     "output_type": "execute_result"
    }
   ],
   "source": [
    "news_articles = pd.read_csv(PATH_NEWS_ARTICLES)\n",
    "news_articles.head()"
   ]
  },
  {
   "cell_type": "code",
   "execution_count": 63,
   "metadata": {
    "collapsed": false
   },
   "outputs": [
    {
     "data": {
      "text/plain": [
       "'At least 14 people died and 17 others were injured after a bus travelling from Hyderabad to Kakinada plunged into a canal from a bridge on the accident-prone stretch of the Hyderabad-Khammam highway in Telangana early Monday morning \\nThe injured were admitted to the Government General Hospital for treatment \\n\\n\\nSeven people died on the spot and the others succumbed to injuries while undergoing treatment at the hospital  The passengers belonged to the East and West Godavari districts of Andhra Pradesh \\nThe bus  owned by private operator Yatra Genie  commenced its journey from Hyderabad at 11 30 p m  on Sunday  Khammam Superintendent of Police Shah Nawaz Khan was quoted by the Hindustan Times as saying \\nThe accident happened around 2 30 a m  when the driver slammed the brakes to avoid a collision with another vehicle coming from the opposite direction on a bridge over Nagarjunsagar project left canal at Nayankangudem village in Khammam district  the daily reported  The bus hit the parapet wall of the bridge and nose-dived into the canal \\nThe driver of the bus was apparently driving at high speed due to which he lost control of the vehicle  following which it fell into the canal under Kusumanchi mandal  the Deccan Herald reported \\nTravellers immediately informed the police who rushed to the accident scene and began the rescue operations '"
      ]
     },
     "execution_count": 63,
     "metadata": {},
     "output_type": "execute_result"
    }
   ],
   "source": [
    "#Select relevant columns and remove rows with missing values\n",
    "news_articles = news_articles[['Article_Id','Title','Content']].dropna()\n",
    "#articles is a list of all articles\n",
    "articles = news_articles['Content'].tolist()\n",
    "articles[0] #an uncleaned article"
   ]
  },
  {
   "cell_type": "code",
   "execution_count": 19,
   "metadata": {
    "collapsed": true
   },
   "outputs": [],
   "source": [
    "def clean_tokenize(document):\n",
    "    document = re.sub('[^\\w_\\s-]', ' ',document)       #remove punctuation marks and other symbols\n",
    "    tokens = nltk.word_tokenize(document)              #Tokenize sentences\n",
    "    cleaned_article = ' '.join([stemmer.stem(item) for item in tokens])    #Stemming each token\n",
    "    return cleaned_article"
   ]
  },
  {
   "cell_type": "code",
   "execution_count": null,
   "metadata": {
    "collapsed": true
   },
   "outputs": [],
   "source": []
  },
  {
   "cell_type": "code",
   "execution_count": 20,
   "metadata": {
    "collapsed": false
   },
   "outputs": [
    {
     "data": {
      "text/plain": [
       "u'at least 14 peopl die and 17 other were injur after a bus travel from hyderabad to kakinada plung into a canal from a bridg on the accident-pron stretch of the hyderabad-khammam highway in telangana earli monday morn the injur were admit to the govern general hospit for treatment seven peopl die on the spot and the other succumb to injuri while undergo treatment at the hospit the passeng belong to the east and west godavari district of andhra pradesh the bus own by privat oper yatra geni commenc it journey from hyderabad at 11 30 p m on sunday khammam superintend of polic shah nawaz khan was quot by the hindustan time as say the accid happen around 2 30 a m when the driver slam the brake to avoid a collis with anoth vehicl come from the opposit direct on a bridg over nagarjunsagar project left canal at nayankangudem villag in khammam district the daili report the bus hit the parapet wall of the bridg and nose-div into the canal the driver of the bus was appar drive at high speed due to which he lost control of the vehicl follow which it fell into the canal under kusumanchi mandal the deccan herald report travel immedi inform the polic who rush to the accid scene and began the rescu oper'"
      ]
     },
     "execution_count": 20,
     "metadata": {},
     "output_type": "execute_result"
    }
   ],
   "source": [
    "cleaned_articles = map(clean_tokenize, articles)\n",
    "cleaned_articles[0]  #a cleaned, tokenized and stemmed article "
   ]
  },
  {
   "cell_type": "markdown",
   "metadata": {},
   "source": [
    "# 2. Represent user in terms of read articles associated words\n"
   ]
  },
  {
   "cell_type": "code",
   "execution_count": 84,
   "metadata": {
    "collapsed": true
   },
   "outputs": [],
   "source": [
    "#Get user representation in terms of words associated with read articles\n",
    "user_articles = ' '.join(cleaned_articles[i] for i in ARTICLES_READ)"
   ]
  },
  {
   "cell_type": "code",
   "execution_count": 85,
   "metadata": {
    "collapsed": false,
    "scrolled": true
   },
   "outputs": [
    {
     "data": {
      "text/plain": [
       "u'prime minist narendra modi has express deep concern and pain at the unrest and unab violenc in kashmir modi has urg all polit parti to unanim support a perman and last solut within the framework of the constitut to the problem of jammu and kashmir prime minist modi highlight the need for dialogu for restor of normalci in the valley as the unrest that began sinc the kill of hizb-ul-mujahideen leader burhan wani on juli 8 enter the 45th day so far 68 peopl have been kill a 75-minute-long meet with a joint 20-member opposit deleg that was led by former j k chief minist omar abdullah and addit compris seven of abdullah s nation confer mlas along with congress legisl led by pcc chief g a mir and cpi m mla m y tarigami present a memorandum to prime minist modi they collect made an appeal for a polit approach to resolv the crisi in the valley and to ensur that the mistak of the past are not repeat modi appreci the construct suggest and reiter his govern s commit to the welfar and develop of the peopl of kashmir and said those who lost their live dure recent disturb are part of us our nation whether the live lost are of our youth secur personnel or polic it distress us govern and the nation stand with the state of jammu and kashmir 10 11 12 13 14 15 infosi share could fall sharpli on tuesday when the stock exchang re-open after an extend weekend after one of it client royal bank of scotland cancel a key project in which over 3 000 infosi employe were deploy rbs has scrap plan to hive off and list william glyn w g as a separ entiti instead it will be explor option to sell it to anoth lender infosi along with ibm had won a project in septemb 2013 to develop comput system for w g for an estim rs 2 500 crore infosi has been a w g program technolog partner for consult applic deliveri and test servic and subsequ to this decis will carri out an order ramp-down of about 3 000 person primarili in india over the next few month the bengaluru-bas it softwar servic export said in a statement last saturday august 13 the royal bank of scotland announc last week that it will no longer pursu it plan to separ and list a new uk standalon bank william glyn w g and instead will pursu other option for the divest of this busi rbs is a key relationship for infosi and the compani look forward to further strengthen our strateg partnership and work with them across other strateg and transform program infosi ad infosi share close at rs 1 063 30 apiec down 1 28 percent on friday on the bombay stock exchang the compani s first quarter q1 result were perceiv as disappoint by analyst and investor and it decis to scale down the revenu guidanc for the current fiscal sent the share crash almost 10 percent on the day infosi lower it fy2017 revenu guidanc to 10 5-12 percent from 11 5-13 5 percent earlier after the compani announc it guidanc on juli 15 the infosi stock fell to rs 1 060 a loss of 9 78 percent from it previous close the compani s june 2016 quarter consolid net profit was 511 million on revenu of 2 501 million translat into revenu growth of 10 9 percent on a year-on-year yoy basi and 12 1 percent in constant currenc term cricket ravichandran ashwin who is busi with the india-australia seri has reveal that he is a big fan of trisha krishnan and has open up on an interest show of fond for the actress ashwin who was a special guest on a tamil televis show said he had start a fan club for trisha when he was in the 8th standard he had fallen in love with her after watch the actress in the tamil film lesa lesa 181 182 183 184 185 186 veteran actor-filmmak revathi has been rope in to direct the bilingu remak of hit bollywood film queen actress suhasini mani ratnam will write dialogu for both the languag vika bahl s 2013 film queen told the stori of a young punjabi girl who embark on her honeymoon to pari alon after her fianc call off their wed the kangana ranaut-starr was a big box offic success it was critic acclaim and also won sever award a lot has been spoken and written on the remak of queen in telugu and tamil some director produc and actor were link to it but noth came of them howev what we hear now seem to be true the buzz in the industri is the bilingu project is in the pipelin filmmak thiagarajan has report bought the right of queen and has plan to produc both the telugu and tamil version he has rope in revathi and suhasini mani ratnam for the film revathi has been rope in to direct the remak while the lead are yet to be finalis the film will have dialogu in both languag by actress suhasini mani ratnam a sourc told ian the bilingu film is current in pre-product and will go on the floor later this year suhasini has finish work on the first half of the film she ll spend next coupl of month finish work on the second half by octob or novemb the film will most like go to the set said the sourc both revathi and suhasini wife of filmmak mani ratnam are popular south indian actress they have featur in hundr movi in telugu tamil malayalam and kannada they have also direct a few film suhasini has also work as dialogu writer and camera assist in some movi after do roar busi all over the world ss rajamouli s magnum opus baahubali is all set for it first televis premier the film which is still run success in theatr will be air in malayalam entertain channel mazhavil manorama at 6 pm on sunday 4 octob the channel will screen the malayalam dub version of the film which has prabha rana daggubati anushka shetti and tamannaah bhatia in the lead role meanwhil detail regard the amount paid for purchas the satellit right of the blockbust have not yet been reveal earlier an exclus interview of the baahubali team attend by anushka tamannaah rana prabha and rajamouli was air on mazhavil manorma as an eid special programm watch the exclus interview below manorama music had launch baahubali s malayalam vcd dvd and blu-ray in dolbi 7 1 on 24 septemb meanwhil telugu channel maa tv has also report bought the satellit right of baahubali by shell out a whop rs 25 crore and will have it screen for dussehra tentat on 25 octob'"
      ]
     },
     "execution_count": 85,
     "metadata": {},
     "output_type": "execute_result"
    }
   ],
   "source": [
    "user_articles"
   ]
  },
  {
   "cell_type": "markdown",
   "metadata": {},
   "source": [
    "# 3. Generate TF-IDF matrix for user read articles and unread articles\n"
   ]
  },
  {
   "cell_type": "code",
   "execution_count": 75,
   "metadata": {
    "collapsed": false
   },
   "outputs": [
    {
     "data": {
      "text/plain": [
       "<4831x16009 sparse matrix of type '<type 'numpy.float64'>'\n",
       "\twith 468648 stored elements in Compressed Sparse Row format>"
      ]
     },
     "execution_count": 75,
     "metadata": {},
     "output_type": "execute_result"
    }
   ],
   "source": [
    "#Generate tfidf matrix model for entire corpus\n",
    "tfidf_matrix = TfidfVectorizer(stop_words='english', min_df=2)\n",
    "article_tfidf_matrix = tfidf_matrix.fit_transform(cleaned_articles)\n",
    "article_tfidf_matrix #tfidf vector of an article"
   ]
  },
  {
   "cell_type": "code",
   "execution_count": 76,
   "metadata": {
    "collapsed": false
   },
   "outputs": [
    {
     "data": {
      "text/plain": [
       "<1x16009 sparse matrix of type '<type 'numpy.float64'>'\n",
       "\twith 469 stored elements in Compressed Sparse Row format>"
      ]
     },
     "execution_count": 76,
     "metadata": {},
     "output_type": "execute_result"
    }
   ],
   "source": [
    "#Generate tfidf matrix model for read articles\n",
    "user_article_tfidf_vector = tfidf_matrix.transform([user_articles])\n",
    "user_article_tfidf_vector"
   ]
  },
  {
   "cell_type": "markdown",
   "metadata": {},
   "source": [
    "# 4. Calculate cosine similarity between user read articles and unread articles \n",
    "\n"
   ]
  },
  {
   "cell_type": "code",
   "execution_count": 77,
   "metadata": {
    "collapsed": false
   },
   "outputs": [],
   "source": [
    "articles_similarity_score=cosine_similarity(article_tfidf_matrix, user_article_tfidf_vector)"
   ]
  },
  {
   "cell_type": "code",
   "execution_count": 78,
   "metadata": {
    "collapsed": true
   },
   "outputs": [],
   "source": [
    "recommended_articles_id = articles_similarity_score.flatten().argsort()[::-1]"
   ]
  },
  {
   "cell_type": "code",
   "execution_count": 79,
   "metadata": {
    "collapsed": false
   },
   "outputs": [
    {
     "data": {
      "text/plain": [
       "array([   6,   61,    1, ...,  439, 3643,  395])"
      ]
     },
     "execution_count": 79,
     "metadata": {},
     "output_type": "execute_result"
    }
   ],
   "source": [
    "recommended_articles_id"
   ]
  },
  {
   "cell_type": "code",
   "execution_count": 80,
   "metadata": {
    "collapsed": true
   },
   "outputs": [],
   "source": [
    "#Remove read articles from recommendations\n",
    "final_recommended_articles_id = [article_id for article_id in recommended_articles_id \n",
    "                                 if article_id not in ARTICLES_READ ][:NUM_RECOMMENDED_ARTICLES]"
   ]
  },
  {
   "cell_type": "markdown",
   "metadata": {},
   "source": [
    "# 5. Get the recommended articles "
   ]
  },
  {
   "cell_type": "code",
   "execution_count": 83,
   "metadata": {
    "collapsed": false
   },
   "outputs": [
    {
     "data": {
      "text/plain": [
       "[1, 72, 762, 323, 3883]"
      ]
     },
     "execution_count": 83,
     "metadata": {},
     "output_type": "execute_result"
    }
   ],
   "source": [
    "final_recommended_articles_id"
   ]
  },
  {
   "cell_type": "code",
   "execution_count": 82,
   "metadata": {
    "collapsed": false
   },
   "outputs": [
    {
     "name": "stdout",
     "output_type": "stream",
     "text": [
      "Articles Read\n",
      "[ 'Infosys shares likely to fall on Tuesday after company s client RBS scraps Williams   Glyn project'\n",
      " 'Dialogue crucial in finding permanent solution to Kashmir s crisis  PM Modi'\n",
      " 'Revathy to direct Queen s Tamil  Telugu remakes  Suhasini to pen dialogues in both languages'\n",
      " 'When cricketer R Ashwin started fans club for Trisha Krishnan'\n",
      " ' Baahubali  to have world television premiere in Malayalam channel  VIDEO ']\n",
      "\n",
      "\n",
      "Recommender \n",
      "[ '14 dead after bus falls into canal in Telangana s Khammam district  Andhra CM promises Rs 3 lakh compensation'\n",
      " 'Pratibha Tiwari molested on busy road   Saath Nibhana Saathiya  actress drags accused to police station'\n",
      " 'US  South Korea begin joint military drill amid nuclear threat from North Korea'\n",
      " ...,\n",
      " 'Samsung Galaxy S6 Active  Water Resistant Variant Leaks On Samsung s Website  Release Date'\n",
      " 'Google Rolls Out Android 5 1 Lollipop OTA  Improvements  New Features'\n",
      " 'Apple Decorates Homepage with Beautiful Images Taken Using iPhones  A Trick to Beat Samsung ']\n"
     ]
    }
   ],
   "source": [
    "#Recommended Articles and their title\n",
    "print 'Articles Read'\n",
    "print news_articles.loc[news_articles['Article_Id'].isin(ARTICLES_READ)]['Title'].values\n",
    "print '\\n'\n",
    "print 'Recommender '\n",
    "print news_articles.loc[news_articles['Article_Id'].isin(recommended_articles_id)]['Title'].values"
   ]
  },
  {
   "cell_type": "code",
   "execution_count": null,
   "metadata": {
    "collapsed": true
   },
   "outputs": [],
   "source": []
  }
 ],
 "metadata": {
  "anaconda-cloud": {},
  "kernelspec": {
   "display_name": "Python [default]",
   "language": "python",
   "name": "python2"
  },
  "language_info": {
   "codemirror_mode": {
    "name": "ipython",
    "version": 2
   },
   "file_extension": ".py",
   "mimetype": "text/x-python",
   "name": "python",
   "nbconvert_exporter": "python",
   "pygments_lexer": "ipython2",
   "version": "2.7.13"
  }
 },
 "nbformat": 4,
 "nbformat_minor": 1
}
