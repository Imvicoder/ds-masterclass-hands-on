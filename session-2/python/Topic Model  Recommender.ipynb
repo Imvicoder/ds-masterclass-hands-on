{
 "cells": [
  {
   "cell_type": "markdown",
   "metadata": {},
   "source": [
    "# Topic Based Recommender"
   ]
  },
  {
   "cell_type": "markdown",
   "metadata": {
    "collapsed": true
   },
   "source": [
    "# Topic Based Recommender\n",
    "1. Represent articles in terms of Topic Vector\n",
    "2. Represent user in terms of Topic Vector of read articles\n",
    "3. Calculate cosine similarity between read and unread articles \n",
    "4. Get the recommended articles "
   ]
  },
  {
   "cell_type": "markdown",
   "metadata": {},
   "source": [
    "**Describing parameters**:\n",
    "\n",
    "*1. PATH_ARTICLE_TOPIC_DISTRIBUTION: specify the path where 'ARTICLE_TOPIC_DISTRIBUTION.csv' is present.* <br/>\n",
    "*2. PATH_NEWS_ARTICLES: specify the path where news_article.csv is present*  <br/>\n",
    "*3. NO_OF_TOPIC: Number of topics specified when training your topic model. This would refer to the dimension of        each vector representing an article*  <br/>\n",
    "*4. ARTICLES_READ: List of Article_Ids read by the user*  <br/>\n",
    "*5. NO_RECOMMENDED_ARTICLES: Refers to the number of recommended articles as a result*"
   ]
  },
  {
   "cell_type": "code",
   "execution_count": 87,
   "metadata": {
    "collapsed": true
   },
   "outputs": [],
   "source": [
    "PATH_ARTICLE_TOPIC_DISTRIBUTION = \"/home/phoenix/Documents/HandsOn/Final/python/Topic Model/model/Article_Topic_Distribution.csv\"\n",
    "PATH_NEWS_ARTICLES = \"/home/phoenix/Documents/HandsOn/news_articles.csv\"\n",
    "NO_OF_TOPICS=150\n",
    "ARTICLES_READ=[2,7]\n",
    "NUM_RECOMMENDED_ARTICLES=5"
   ]
  },
  {
   "cell_type": "code",
   "execution_count": 2,
   "metadata": {
    "collapsed": true
   },
   "outputs": [],
   "source": [
    "import pandas as pd\n",
    "import numpy as np\n",
    "from sklearn.metrics.pairwise import cosine_similarity"
   ]
  },
  {
   "cell_type": "markdown",
   "metadata": {},
   "source": [
    "## 1. Represent Read Article in terms of Topic Vector"
   ]
  },
  {
   "cell_type": "code",
   "execution_count": 3,
   "metadata": {
    "collapsed": false
   },
   "outputs": [
    {
     "data": {
      "text/plain": [
       "(22186, 3)"
      ]
     },
     "execution_count": 3,
     "metadata": {},
     "output_type": "execute_result"
    }
   ],
   "source": [
    "article_topic_distribution = pd.read_csv(PATH_ARTICLE_TOPIC_DISTRIBUTION)\n",
    "article_topic_distribution.shape"
   ]
  },
  {
   "cell_type": "markdown",
   "metadata": {},
   "source": [
    "***Generate Article-Topic Distribution matrix ***"
   ]
  },
  {
   "cell_type": "code",
   "execution_count": 4,
   "metadata": {
    "collapsed": false
   },
   "outputs": [
    {
     "data": {
      "text/plain": [
       "(4831, 150)"
      ]
     },
     "execution_count": 4,
     "metadata": {},
     "output_type": "execute_result"
    }
   ],
   "source": [
    "#Pivot the dataframe\n",
    "article_topic_pivot = article_topic_distribution.pivot(index='Article_Id', columns='Topic_Id', values='Topic_Weight')\n",
    "#Fill NaN with 0\n",
    "article_topic_pivot.fillna(value=0, inplace=True)\n",
    "#Get the values in dataframe as matrix\n",
    "articles_topic_matrix = article_topic_pivot.values\n",
    "articles_topic_matrix.shape"
   ]
  },
  {
   "cell_type": "markdown",
   "metadata": {},
   "source": [
    "## 2. Represent user in terms of Topic Vector of read articles\n"
   ]
  },
  {
   "cell_type": "markdown",
   "metadata": {},
   "source": [
    "***A user vector is represented in terms of average of read articles topic vector***"
   ]
  },
  {
   "cell_type": "code",
   "execution_count": 5,
   "metadata": {
    "collapsed": false
   },
   "outputs": [
    {
     "data": {
      "text/plain": [
       "(1, 150)"
      ]
     },
     "execution_count": 5,
     "metadata": {},
     "output_type": "execute_result"
    }
   ],
   "source": [
    "#Select user in terms of read article topic distribution\n",
    "row_idx = np.array(ARTICLES_READ)\n",
    "read_articles_topic_matrix=articles_topic_matrix[row_idx[:, None]]\n",
    "#Calculate the average of read articles topic vector \n",
    "user_vector = np.mean(read_articles_topic_matrix, axis=0)\n",
    "user_vector.shape"
   ]
  },
  {
   "cell_type": "markdown",
   "metadata": {},
   "source": [
    "## 3. Calculate cosine similarity between read and unread articles "
   ]
  },
  {
   "cell_type": "code",
   "execution_count": 83,
   "metadata": {
    "collapsed": false
   },
   "outputs": [],
   "source": [
    "def calculate_cosine_similarity(articles_topic_matrix, user_vector):\n",
    "    articles_similarity_score=cosine_similarity(articles_topic_matrix, user_vector)\n",
    "    recommended_articles_id = articles_similarity_score.flatten().argsort()[::-1]\n",
    "    #Remove read articles from recommendations\n",
    "    final_recommended_articles_id = [article_id for article_id in recommended_articles_id \n",
    "                                     if article_id not in ARTICLES_READ ][:NUM_RECOMMENDED_ARTICLES]\n",
    "    return final_recommended_articles_id"
   ]
  },
  {
   "cell_type": "code",
   "execution_count": 7,
   "metadata": {
    "collapsed": false
   },
   "outputs": [
    {
     "data": {
      "text/plain": [
       "array([2843,    2, 3419, ..., 2342, 4461, 4830])"
      ]
     },
     "execution_count": 7,
     "metadata": {},
     "output_type": "execute_result"
    }
   ],
   "source": [
    "recommended_articles_id = calculate_cosine_similarity(articles_tfidf_matrix, user_vector)\n",
    "recommended_articles_id"
   ]
  },
  {
   "cell_type": "markdown",
   "metadata": {},
   "source": [
    "# 4. Recommendation Using Topic Model:-"
   ]
  },
  {
   "cell_type": "code",
   "execution_count": 9,
   "metadata": {
    "collapsed": false
   },
   "outputs": [
    {
     "name": "stdout",
     "output_type": "stream",
     "text": [
      "Articles Read\n",
      "2    US  South Korea begin joint military drill ami...\n",
      "7    Dialogue crucial in finding permanent solution...\n",
      "Name: Title, dtype: object\n",
      "\n",
      "\n",
      "Recommender \n",
      "2760    Rajnath Singh s security is Pak s responsibili...\n",
      "2843    Siachen avalanche  Indian Army says missing so...\n",
      "3123    Military Plane Crashes Outside Seville Airport...\n",
      "3307    Europe survives  year of hell   but worse expe...\n",
      "3419    Jammu   Kashmir  Army Indicts 9 Soldiers for K...\n",
      "Name: Title, dtype: object\n"
     ]
    }
   ],
   "source": [
    "#Recommended Articles and their title\n",
    "news_articles = pd.read_csv(PATH_NEWS_ARTICLES)\n",
    "print 'Articles Read'\n",
    "print news_articles.loc[news_articles['Article_Id'].isin(ARTICLES_READ)]['Title']\n",
    "print '\\n'\n",
    "print 'Recommender '\n",
    "print news_articles.loc[news_articles['Article_Id'].isin(recommended_articles_id)]['Title']"
   ]
  },
  {
   "cell_type": "markdown",
   "metadata": {
    "collapsed": true
   },
   "source": [
    "# Topics + NER Recommender"
   ]
  },
  {
   "cell_type": "markdown",
   "metadata": {},
   "source": [
    "# Topic + NER Based Recommender\n",
    "\n",
    "1. Represent user in terms of - <br/>\n",
    "        (Alpha) <Topic Vector> + (1-Alpha) <NER Vector> <br/>\n",
    "   where <br/>\n",
    "   Alpha => [0,1] <br/>\n",
    "   [Topic Vector] => Topic vector representation of concatenated read articles <br/>\n",
    "   [NER Vector]   => Topic vector representation of NERs associated with concatenated read articles <br/>\n",
    "2. Calculate cosine similarity between user vector and articles Topic matrix\n",
    "3. Get the recommended articles "
   ]
  },
  {
   "cell_type": "code",
   "execution_count": 129,
   "metadata": {
    "collapsed": true
   },
   "outputs": [],
   "source": [
    "ALPHA = 0.01\n",
    "DICTIONARY_PATH = \"/home/phoenix/Documents/HandsOn/Final/python/Topic Model/model/dictionary_of_words.p\"\n",
    "LDA_MODEL_PATH = \"/home/phoenix/Documents/HandsOn/Final/python/Topic Model/model/lda.model\""
   ]
  },
  {
   "cell_type": "code",
   "execution_count": 130,
   "metadata": {
    "collapsed": true
   },
   "outputs": [],
   "source": [
    "from nltk import word_tokenize, pos_tag, ne_chunk\n",
    "from nltk.chunk import tree2conlltags\n",
    "import re\n",
    "from nltk.corpus import stopwords\n",
    "from nltk.tokenize import TweetTokenizer\n",
    "from nltk.stem.snowball import SnowballStemmer\n",
    "import pickle\n",
    "import gensim\n",
    "from gensim import corpora, models"
   ]
  },
  {
   "cell_type": "markdown",
   "metadata": {},
   "source": [
    "# 1. Represent User in terms of Topic Distribution and NER\n",
    "\n",
    "1. Represent user in terms of read article topic distribution\n",
    "2. Represent user in terms of NERs associated with read articles\n",
    "        2.1 Get NERs of read articles\n",
    "        2.2 Load LDA model\n",
    "        2.3 Get topic distribution for the concated NERs\n",
    "3. Generate user vector"
   ]
  },
  {
   "cell_type": "markdown",
   "metadata": {},
   "source": [
    "## 1.1. Represent user in terms of read article topic distribution"
   ]
  },
  {
   "cell_type": "code",
   "execution_count": 131,
   "metadata": {
    "collapsed": false
   },
   "outputs": [
    {
     "data": {
      "text/plain": [
       "(1, 150)"
      ]
     },
     "execution_count": 131,
     "metadata": {},
     "output_type": "execute_result"
    }
   ],
   "source": [
    "row_idx = np.array(ARTICLES_READ)\n",
    "read_articles_topic_matrix=articles_topic_matrix[row_idx[:, None]]\n",
    "#Calculate the average of read articles topic vector \n",
    "user_topic_vector = np.mean(read_articles_topic_matrix, axis=0)\n",
    "user_topic_vector.shape"
   ]
  },
  {
   "cell_type": "markdown",
   "metadata": {},
   "source": [
    "## 1.2. Represent user in terms of NERs associated with read articles"
   ]
  },
  {
   "cell_type": "code",
   "execution_count": 132,
   "metadata": {
    "collapsed": true
   },
   "outputs": [],
   "source": [
    "# Get NERs of read articles\n",
    "def get_ner(article):\n",
    "    ne_tree = ne_chunk(pos_tag(word_tokenize(article)))\n",
    "    iob_tagged = tree2conlltags(ne_tree)\n",
    "    ner_token = ' '.join([token for token,pos,ner_tag in iob_tagged if not ner_tag==u'O']) #Discarding tokens with 'Other' tag\n",
    "    return ner_token"
   ]
  },
  {
   "cell_type": "code",
   "execution_count": 133,
   "metadata": {
    "collapsed": false
   },
   "outputs": [
    {
     "name": "stdout",
     "output_type": "stream",
     "text": [
      "NERs of Read Article => United States South Korea North United Nations Security Council North Korea UN North Korea South Korea Ulchi Freedom Guardian Command North Korean Korean People Army Ulji Freedom Guardian KPA South Korea North London Seoul Kim Jong Un North Korean Narendra Modi Kashmir Modi Jammu Kashmir Modi Burhan Wani Omar Abdullah Abdullah National Conference Congress PCC CPI Tarigami Valley Modi Kashmir Jammu Kashmir\n"
     ]
    }
   ],
   "source": [
    "articles = news_articles['Content'].tolist()\n",
    "user_articles_ner = ' '.join([get_ner(articles[i]) for i in ARTICLES_READ])\n",
    "print \"NERs of Read Article =>\", user_articles_ner"
   ]
  },
  {
   "cell_type": "code",
   "execution_count": 134,
   "metadata": {
    "collapsed": true
   },
   "outputs": [],
   "source": [
    "stop_words = set(stopwords.words('english'))\n",
    "tknzr = TweetTokenizer()\n",
    "stemmer = SnowballStemmer(\"english\")"
   ]
  },
  {
   "cell_type": "code",
   "execution_count": 135,
   "metadata": {
    "collapsed": true
   },
   "outputs": [],
   "source": [
    "def clean_text(text):\n",
    "    cleaned_text=re.sub('[^\\w_\\s-]', ' ', text)                                            #remove punctuation marks \n",
    "    return cleaned_text                                                                    #and other symbols \n",
    "\n",
    "def tokenize(text):\n",
    "    word = tknzr.tokenize(text)                                                             #tokenization\n",
    "    filtered_sentence = [w for w in word if not w.lower() in stop_words]                    #removing stop words\n",
    "    stemmed_filtered_tokens = [stemmer.stem(plural) for plural in filtered_sentence]        #stemming\n",
    "    tokens = [i for i in stemmed_filtered_tokens if i.isalpha() and len(i) not in [0, 1]]\n",
    "    return tokens"
   ]
  },
  {
   "cell_type": "code",
   "execution_count": 136,
   "metadata": {
    "collapsed": false
   },
   "outputs": [],
   "source": [
    "#Cleaning the article\n",
    "cleaned_text = clean_text(user_articles_ner)\n",
    "article_vocabulary = tokenize(cleaned_text)"
   ]
  },
  {
   "cell_type": "code",
   "execution_count": 137,
   "metadata": {
    "collapsed": false
   },
   "outputs": [],
   "source": [
    "#Load model dictionary\n",
    "model_dictionary = pickle.load(open(DICTIONARY_PATH,\"rb\"))\n",
    "#Generate article maping using IDs associated with vocab\n",
    "corpus = [model_dictionary.doc2bow(text) for text in [article_vocabulary]]"
   ]
  },
  {
   "cell_type": "code",
   "execution_count": 138,
   "metadata": {
    "collapsed": false
   },
   "outputs": [],
   "source": [
    "#Load LDA Model\n",
    "lda =  models.LdaModel.load(LDA_MODEL_PATH)"
   ]
  },
  {
   "cell_type": "code",
   "execution_count": 139,
   "metadata": {
    "collapsed": false
   },
   "outputs": [
    {
     "data": {
      "text/plain": [
       "[(29, 0.12263313269087657),\n",
       " (62, 0.050353370951179081),\n",
       " (84, 0.15588838753218867),\n",
       " (127, 0.36080067044623093),\n",
       " (135, 0.29498052303560879)]"
      ]
     },
     "execution_count": 139,
     "metadata": {},
     "output_type": "execute_result"
    }
   ],
   "source": [
    "# Get topic distribution for the concated NERs\n",
    "article_topic_distribution=lda.get_document_topics(corpus[0])\n",
    "article_topic_distribution"
   ]
  },
  {
   "cell_type": "code",
   "execution_count": 140,
   "metadata": {
    "collapsed": false
   },
   "outputs": [
    {
     "data": {
      "text/plain": [
       "150"
      ]
     },
     "execution_count": 140,
     "metadata": {},
     "output_type": "execute_result"
    }
   ],
   "source": [
    "user_ner_vector =[0]*NO_OF_TOPICS\n",
    "for topic_id, topic_weight in article_topic_distribution:\n",
    "    user_ner_vector[topic_id]=topic_weight\n",
    "len(user_ner_vector)"
   ]
  },
  {
   "cell_type": "markdown",
   "metadata": {},
   "source": [
    "## 1.3. Generate user vector"
   ]
  },
  {
   "cell_type": "code",
   "execution_count": 141,
   "metadata": {
    "collapsed": false
   },
   "outputs": [
    {
     "data": {
      "text/plain": [
       "(150,)"
      ]
     },
     "execution_count": 141,
     "metadata": {},
     "output_type": "execute_result"
    }
   ],
   "source": [
    "# User_Vector =>  (Alpha) [Topic Vector] + (1-Alpha) [NER Vector] \n",
    "alpha_topic_vector = [topic_weight*ALPHA for topic_weight in user_topic_vector]\n",
    "alpha_ner_vector = [ner*(1-ALPHA) for ner in user_ner_vector]\n",
    "\n",
    "user_vector = np.sum(zip(alpha_topic_vector,alpha_ner_vector))\n",
    "user_vector.shape"
   ]
  },
  {
   "cell_type": "markdown",
   "metadata": {},
   "source": [
    "# 2. Calculate cosine similarity between user vector and articles Topic matrix"
   ]
  },
  {
   "cell_type": "code",
   "execution_count": 142,
   "metadata": {
    "collapsed": false
   },
   "outputs": [
    {
     "name": "stderr",
     "output_type": "stream",
     "text": [
      "/home/phoenix/anaconda2/lib/python2.7/site-packages/sklearn/utils/validation.py:395: DeprecationWarning: Passing 1d arrays as data is deprecated in 0.17 and will raise ValueError in 0.19. Reshape your data either using X.reshape(-1, 1) if your data has a single feature or X.reshape(1, -1) if it contains a single sample.\n",
      "  DeprecationWarning)\n"
     ]
    },
    {
     "data": {
      "text/plain": [
       "[2843, 3419, 2760, 3123, 3307]"
      ]
     },
     "execution_count": 142,
     "metadata": {},
     "output_type": "execute_result"
    }
   ],
   "source": [
    "recommended_articles_id = calculate_cosine_similarity(articles_topic_matrix, user_vector)\n",
    "recommended_articles_id"
   ]
  },
  {
   "cell_type": "markdown",
   "metadata": {},
   "source": [
    "# 3. Get recommended articles"
   ]
  },
  {
   "cell_type": "code",
   "execution_count": 143,
   "metadata": {
    "collapsed": false
   },
   "outputs": [
    {
     "name": "stdout",
     "output_type": "stream",
     "text": [
      "Articles Read\n",
      "2    US  South Korea begin joint military drill ami...\n",
      "7    Dialogue crucial in finding permanent solution...\n",
      "Name: Title, dtype: object\n",
      "\n",
      "\n",
      "Recommender \n",
      "2760    Rajnath Singh s security is Pak s responsibili...\n",
      "2843    Siachen avalanche  Indian Army says missing so...\n",
      "3123    Military Plane Crashes Outside Seville Airport...\n",
      "3307    Europe survives  year of hell   but worse expe...\n",
      "3419    Jammu   Kashmir  Army Indicts 9 Soldiers for K...\n",
      "Name: Title, dtype: object\n"
     ]
    }
   ],
   "source": [
    "#Recommended Articles and their title\n",
    "news_articles = pd.read_csv(PATH_NEWS_ARTICLES)\n",
    "print 'Articles Read'\n",
    "print news_articles.loc[news_articles['Article_Id'].isin(ARTICLES_READ)]['Title']\n",
    "print '\\n'\n",
    "print 'Recommender '\n",
    "print news_articles.loc[news_articles['Article_Id'].isin(recommended_articles_id)]['Title']"
   ]
  },
  {
   "cell_type": "code",
   "execution_count": null,
   "metadata": {
    "collapsed": true
   },
   "outputs": [],
   "source": []
  }
 ],
 "metadata": {
  "kernelspec": {
   "display_name": "Python 2",
   "language": "python",
   "name": "python2"
  },
  "language_info": {
   "codemirror_mode": {
    "name": "ipython",
    "version": 2
   },
   "file_extension": ".py",
   "mimetype": "text/x-python",
   "name": "python",
   "nbconvert_exporter": "python",
   "pygments_lexer": "ipython2",
   "version": "2.7.13"
  }
 },
 "nbformat": 4,
 "nbformat_minor": 2
}
