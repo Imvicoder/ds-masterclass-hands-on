{
 "cells": [
  {
   "cell_type": "markdown",
   "metadata": {},
   "source": [
    "# Named Entity based Recommender System\n",
    "\n",
    "### Recommender System based on Named Entities as representation of documents"
   ]
  },
  {
   "cell_type": "markdown",
   "metadata": {},
   "source": [
    "# Named Entity Based Recommender\n",
    "1. Represent articles in terms of bag of words\n",
    "2. Represent user in terms of NER words associated with read articles \n",
    "3. Generate TF-IDF matrix for user read articles and unread articles\n",
    "4. Calculate cosine similarity between user read articles and unread articles \n",
    "5. Get the recommended articles "
   ]
  },
  {
   "cell_type": "markdown",
   "metadata": {},
   "source": [
    "**Describing parameters**:\n",
    "\n",
    "*1. PATH_NEWS_ARTICLES: specify the path where news_article.csv is present*  <br/>\n",
    "*2. ARTICLES_READ: List of Article_Ids read by the user*  <br/>\n",
    "*3. NO_RECOMMENDED_ARTICLES: Refers to the number of recommended articles as a result*"
   ]
  },
  {
   "cell_type": "code",
   "execution_count": 1,
   "metadata": {
    "collapsed": true
   },
   "outputs": [],
   "source": [
    "PATH_NEWS_ARTICLES=\"/home/phoenix/Documents/HandsOn/news_articles.csv\"\n",
    "ARTICLES_READ=[4,5,7,8]\n",
    "NUM_RECOMMENDED_ARTICLES=5"
   ]
  },
  {
   "cell_type": "code",
   "execution_count": 2,
   "metadata": {
    "collapsed": true
   },
   "outputs": [],
   "source": [
    "import pandas as pd\n",
    "import pickle as pk\n",
    "from sklearn.feature_extraction.text import TfidfVectorizer\n",
    "from sklearn.metrics.pairwise import cosine_similarity\n",
    "import re\n",
    "from nltk.stem.snowball import SnowballStemmer\n",
    "import nltk\n",
    "import numpy\n",
    "from nltk import word_tokenize, pos_tag, ne_chunk\n",
    "from nltk.chunk import tree2conlltags\n",
    "stemmer = SnowballStemmer(\"english\")"
   ]
  },
  {
   "cell_type": "markdown",
   "metadata": {},
   "source": [
    "## 1. Represent articles in terms of bag of words\n"
   ]
  },
  {
   "cell_type": "code",
   "execution_count": 3,
   "metadata": {
    "collapsed": false
   },
   "outputs": [
    {
     "data": {
      "text/html": [
       "<div>\n",
       "<table border=\"1\" class=\"dataframe\">\n",
       "  <thead>\n",
       "    <tr style=\"text-align: right;\">\n",
       "      <th></th>\n",
       "      <th>Article_Id</th>\n",
       "      <th>Title</th>\n",
       "      <th>Author</th>\n",
       "      <th>Date</th>\n",
       "      <th>Content</th>\n",
       "      <th>URL</th>\n",
       "    </tr>\n",
       "  </thead>\n",
       "  <tbody>\n",
       "    <tr>\n",
       "      <th>0</th>\n",
       "      <td>0</td>\n",
       "      <td>14 dead after bus falls into canal in Telangan...</td>\n",
       "      <td>Devyani Sultania</td>\n",
       "      <td>August 22, 2016 12:34 IST</td>\n",
       "      <td>At least 14 people died and 17 others were inj...</td>\n",
       "      <td>http://www.ibtimes.co.in/14-dead-after-bus-fal...</td>\n",
       "    </tr>\n",
       "    <tr>\n",
       "      <th>1</th>\n",
       "      <td>1</td>\n",
       "      <td>Pratibha Tiwari molested on busy road   Saath ...</td>\n",
       "      <td>Suparno Sarkar</td>\n",
       "      <td>August 22, 2016 19:47 IST</td>\n",
       "      <td>TV actress Pratibha Tiwari  who is best known ...</td>\n",
       "      <td>NaN</td>\n",
       "    </tr>\n",
       "    <tr>\n",
       "      <th>2</th>\n",
       "      <td>2</td>\n",
       "      <td>US  South Korea begin joint military drill ami...</td>\n",
       "      <td>Namrata Tripathi</td>\n",
       "      <td>August 22, 2016 18:10 IST</td>\n",
       "      <td>The United States and South Korea began a join...</td>\n",
       "      <td>http://www.ibtimes.co.in/us-south-korea-begin-...</td>\n",
       "    </tr>\n",
       "    <tr>\n",
       "      <th>3</th>\n",
       "      <td>3</td>\n",
       "      <td>Illegal construction in Bengaluru  Will my hou...</td>\n",
       "      <td>S V Krishnamachari</td>\n",
       "      <td>August 22, 2016 17:39 IST</td>\n",
       "      <td>The relentless drive by Bengaluru s  Bangalore...</td>\n",
       "      <td>http://www.ibtimes.co.in/illegal-construction-...</td>\n",
       "    </tr>\n",
       "    <tr>\n",
       "      <th>4</th>\n",
       "      <td>4</td>\n",
       "      <td>Punjab Gau Rakshak Dal chief held for assaulti...</td>\n",
       "      <td>Pranshu Rathee</td>\n",
       "      <td>August 22, 2016 17:34 IST</td>\n",
       "      <td>Punjab Gau Raksha Dal chief Satish Kumar and h...</td>\n",
       "      <td>http://www.ibtimes.co.in/punjab-gau-rakshak-da...</td>\n",
       "    </tr>\n",
       "  </tbody>\n",
       "</table>\n",
       "</div>"
      ],
      "text/plain": [
       "   Article_Id                                              Title  \\\n",
       "0           0  14 dead after bus falls into canal in Telangan...   \n",
       "1           1  Pratibha Tiwari molested on busy road   Saath ...   \n",
       "2           2  US  South Korea begin joint military drill ami...   \n",
       "3           3  Illegal construction in Bengaluru  Will my hou...   \n",
       "4           4  Punjab Gau Rakshak Dal chief held for assaulti...   \n",
       "\n",
       "               Author                       Date  \\\n",
       "0    Devyani Sultania  August 22, 2016 12:34 IST   \n",
       "1      Suparno Sarkar  August 22, 2016 19:47 IST   \n",
       "2    Namrata Tripathi  August 22, 2016 18:10 IST   \n",
       "3  S V Krishnamachari  August 22, 2016 17:39 IST   \n",
       "4      Pranshu Rathee  August 22, 2016 17:34 IST   \n",
       "\n",
       "                                             Content  \\\n",
       "0  At least 14 people died and 17 others were inj...   \n",
       "1  TV actress Pratibha Tiwari  who is best known ...   \n",
       "2  The United States and South Korea began a join...   \n",
       "3  The relentless drive by Bengaluru s  Bangalore...   \n",
       "4  Punjab Gau Raksha Dal chief Satish Kumar and h...   \n",
       "\n",
       "                                                 URL  \n",
       "0  http://www.ibtimes.co.in/14-dead-after-bus-fal...  \n",
       "1                                                NaN  \n",
       "2  http://www.ibtimes.co.in/us-south-korea-begin-...  \n",
       "3  http://www.ibtimes.co.in/illegal-construction-...  \n",
       "4  http://www.ibtimes.co.in/punjab-gau-rakshak-da...  "
      ]
     },
     "execution_count": 3,
     "metadata": {},
     "output_type": "execute_result"
    }
   ],
   "source": [
    "news_articles = pd.read_csv(PATH_NEWS_ARTICLES)\n",
    "news_articles.head()"
   ]
  },
  {
   "cell_type": "code",
   "execution_count": 4,
   "metadata": {
    "collapsed": false
   },
   "outputs": [
    {
     "data": {
      "text/plain": [
       "'At least 14 people died and 17 others were injured after a bus travelling from Hyderabad to Kakinada plunged into a canal from a bridge on the accident-prone stretch of the Hyderabad-Khammam highway in Telangana early Monday morning \\nThe injured were admitted to the Government General Hospital for treatment \\n\\n\\nSeven people died on the spot and the others succumbed to injuries while undergoing treatment at the hospital  The passengers belonged to the East and West Godavari districts of Andhra Pradesh \\nThe bus  owned by private operator Yatra Genie  commenced its journey from Hyderabad at 11 30 p m  on Sunday  Khammam Superintendent of Police Shah Nawaz Khan was quoted by the Hindustan Times as saying \\nThe accident happened around 2 30 a m  when the driver slammed the brakes to avoid a collision with another vehicle coming from the opposite direction on a bridge over Nagarjunsagar project left canal at Nayankangudem village in Khammam district  the daily reported  The bus hit the parapet wall of the bridge and nose-dived into the canal \\nThe driver of the bus was apparently driving at high speed due to which he lost control of the vehicle  following which it fell into the canal under Kusumanchi mandal  the Deccan Herald reported \\nTravellers immediately informed the police who rushed to the accident scene and began the rescue operations '"
      ]
     },
     "execution_count": 4,
     "metadata": {},
     "output_type": "execute_result"
    }
   ],
   "source": [
    "#Select relevant columns and remove rows with missing values\n",
    "news_articles = news_articles[['Article_Id','Title','Content']].dropna()\n",
    "#articles is a list of all articles\n",
    "articles = news_articles['Content'].tolist()\n",
    "articles[0] #an uncleaned article"
   ]
  },
  {
   "cell_type": "code",
   "execution_count": 6,
   "metadata": {
    "collapsed": true
   },
   "outputs": [],
   "source": [
    "def clean_tokenize(document):\n",
    "    document = re.sub('[^\\w_\\s-]', ' ',document)       #remove punctuation marks and other symbols\n",
    "    tokens = nltk.word_tokenize(document)              #Tokenize sentences\n",
    "    cleaned_article = ' '.join([stemmer.stem(item) for item in tokens])    #Stemming each token\n",
    "    return cleaned_article"
   ]
  },
  {
   "cell_type": "code",
   "execution_count": 7,
   "metadata": {
    "collapsed": false
   },
   "outputs": [
    {
     "data": {
      "text/plain": [
       "u'at least 14 peopl die and 17 other were injur after a bus travel from hyderabad to kakinada plung into a canal from a bridg on the accident-pron stretch of the hyderabad-khammam highway in telangana earli monday morn the injur were admit to the govern general hospit for treatment seven peopl die on the spot and the other succumb to injuri while undergo treatment at the hospit the passeng belong to the east and west godavari district of andhra pradesh the bus own by privat oper yatra geni commenc it journey from hyderabad at 11 30 p m on sunday khammam superintend of polic shah nawaz khan was quot by the hindustan time as say the accid happen around 2 30 a m when the driver slam the brake to avoid a collis with anoth vehicl come from the opposit direct on a bridg over nagarjunsagar project left canal at nayankangudem villag in khammam district the daili report the bus hit the parapet wall of the bridg and nose-div into the canal the driver of the bus was appar drive at high speed due to which he lost control of the vehicl follow which it fell into the canal under kusumanchi mandal the deccan herald report travel immedi inform the polic who rush to the accid scene and began the rescu oper'"
      ]
     },
     "execution_count": 7,
     "metadata": {},
     "output_type": "execute_result"
    }
   ],
   "source": [
    "cleaned_articles = map(clean_tokenize, articles)\n",
    "cleaned_articles[0]  #a cleaned, tokenized and stemmed article "
   ]
  },
  {
   "cell_type": "markdown",
   "metadata": {},
   "source": [
    "# 2. Represent user in terms of NER words associated with read articles \n"
   ]
  },
  {
   "cell_type": "code",
   "execution_count": null,
   "metadata": {
    "collapsed": true
   },
   "outputs": [],
   "source": [
    "def NERwords(art):\n",
    "    ne_tree = ne_chunk(pos_tag(word_tokenize(art)))\n",
    "    iob_tagged = tree2conlltags(ne_tree)\n",
    "    NERwrds = ' '.join([str(n[0]) for n in iob_tagged if not n[2]==u'O'])\n",
    "    return NERwrds\n",
    "\n",
    "def user_artNER(article_ids,doc):\n",
    "    sen = ' '.join([NERwords(doc[int(i)]) for i in article_ids])\n",
    "    doc.append(sen)\n",
    "    return doc"
   ]
  },
  {
   "cell_type": "code",
   "execution_count": 15,
   "metadata": {
    "collapsed": true
   },
   "outputs": [],
   "source": []
  },
  {
   "cell_type": "code",
   "execution_count": 14,
   "metadata": {
    "collapsed": false
   },
   "outputs": [],
   "source": [
    "def vectorizing(documents):\n",
    "    #Function for vectorizing\n",
    "    vectorizer = TfidfVectorizer(stop_words='english', min_df=2,\n",
    "                                 tokenizer=tokenizer_func)\n",
    "    X_data = vectorizer.fit_transform(documents)\n",
    "    return X_data"
   ]
  },
  {
   "cell_type": "markdown",
   "metadata": {},
   "source": [
    "## Similarity match\n",
    "\n",
    "Calculating the Cosine similarity between articles read and unread articles"
   ]
  },
  {
   "cell_type": "code",
   "execution_count": 16,
   "metadata": {
    "collapsed": false
   },
   "outputs": [],
   "source": [
    "def similarity(articles_id,tf_idf):\n",
    "    #Function to calculate cosine similarity\n",
    "    cs_matrix=cosine_similarity(tf_idf[-1], tf_idf)\n",
    "    recommended_articles_id = numpy.concatenate(cs_matrix, axis=0).argsort()[:][::-1]\n",
    "    #Remove read articles from recommendations\n",
    "    final_recommended_articles_id = [art_id for art_id in recommended_articles_id \n",
    "                                     if art_id not in articles_id ][:5]\n",
    "    return final_recommended_articles_id"
   ]
  },
  {
   "cell_type": "code",
   "execution_count": 18,
   "metadata": {
    "collapsed": true
   },
   "outputs": [],
   "source": [
    "#Reading the documents\n",
    "documents = pk.load(open('artlist.pkl', 'rb+'))\n",
    "articles_ids = [2,3]"
   ]
  },
  {
   "cell_type": "code",
   "execution_count": 19,
   "metadata": {
    "collapsed": false
   },
   "outputs": [],
   "source": [
    "#For combining the articles\n",
    "new_art = user_artNER(articles_ids,documents)\n",
    "#For calculating the tf-idf vector\n",
    "tf_idf = vectorizing(new_art)\n",
    "#Recommendations\n",
    "recommendations = similarity(articles_ids,tf_idf)"
   ]
  },
  {
   "cell_type": "markdown",
   "metadata": {},
   "source": [
    "## Results"
   ]
  },
  {
   "cell_type": "code",
   "execution_count": null,
   "metadata": {
    "collapsed": true
   },
   "outputs": [],
   "source": [
    "#Recommended Articles and their title\n",
    "#df_news = pd.read_csv(PATH_NEWS_ARTICLES)\n",
    "print 'Articles Read'\n",
    "print inputfile1.loc[inputfile1['Article_Id'].isin(articles_ids)]['Title']\n",
    "print '\\n'\n",
    "print 'Recommender '\n",
    "print inputfile1.loc[inputfile1['Article_Id'].isin(recommendations)]['Title']"
   ]
  }
 ],
 "metadata": {
  "kernelspec": {
   "display_name": "Python 2",
   "language": "python",
   "name": "python2"
  },
  "language_info": {
   "codemirror_mode": {
    "name": "ipython",
    "version": 2
   },
   "file_extension": ".py",
   "mimetype": "text/x-python",
   "name": "python",
   "nbconvert_exporter": "python",
   "pygments_lexer": "ipython2",
   "version": "2.7.13"
  }
 },
 "nbformat": 4,
 "nbformat_minor": 1
}
