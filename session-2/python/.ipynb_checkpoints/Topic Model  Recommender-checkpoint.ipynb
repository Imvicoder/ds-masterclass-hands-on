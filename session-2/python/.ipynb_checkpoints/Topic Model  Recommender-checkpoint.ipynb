{
 "cells": [
  {
   "cell_type": "markdown",
   "metadata": {},
   "source": [
    "# Topic Based Recommender"
   ]
  },
  {
   "cell_type": "markdown",
   "metadata": {
    "collapsed": true
   },
   "source": [
    "# Topic Based Recommender\n",
    "1. Represent articles in terms of Topic Vector\n",
    "2. Represent user in terms of Topic Vector of read articles\n",
    "3. Calculate cosine similarity between read and unread articles \n",
    "4. Get the recommended articles "
   ]
  },
  {
   "cell_type": "markdown",
   "metadata": {},
   "source": [
    "**Describing parameters**:\n",
    "\n",
    "*1. PATH_ARTICLE_TOPIC_DISTRIBUTION: specify the path where 'ARTICLE_TOPIC_DISTRIBUTION.csv' is present.* <br/>\n",
    "*2. PATH_NEWS_ARTICLES: specify the path where news_article.csv is present*  <br/>\n",
    "*3. NO_OF_TOPIC: Number of topics specified when training your topic model. This would refer to the dimension of        each vector representing an article*  <br/>\n",
    "*4. ARTICLES_READ: List of Article_Ids read by the user*  <br/>\n",
    "*5. NO_RECOMMENDED_ARTICLES: Refers to the number of recommended articles as a result*"
   ]
  },
  {
   "cell_type": "code",
   "execution_count": 1,
   "metadata": {
    "collapsed": true
   },
   "outputs": [],
   "source": [
    "PATH_ARTICLE_TOPIC_DISTRIBUTION = \"/home/phoenix/Documents/HandsOn/Final/python/Topic Model/model/Article_Topic_Distribution.csv\"\n",
    "PATH_NEWS_ARTICLES = \"/home/phoenix/Documents/HandsOn/news_articles.csv\"\n",
    "NO_OF_TOPICS=150\n",
    "ARTICLES_READ=[2,7]\n",
    "NO_RECOMMENDED_ARTICLES=5"
   ]
  },
  {
   "cell_type": "code",
   "execution_count": 2,
   "metadata": {
    "collapsed": true
   },
   "outputs": [],
   "source": [
    "import pandas as pd\n",
    "import numpy as np\n",
    "from sklearn.metrics.pairwise import cosine_similarity"
   ]
  },
  {
   "cell_type": "markdown",
   "metadata": {},
   "source": [
    "## 1. Represent Read Article in terms of Topic Vector"
   ]
  },
  {
   "cell_type": "code",
   "execution_count": 3,
   "metadata": {
    "collapsed": false
   },
   "outputs": [
    {
     "data": {
      "text/plain": [
       "(22186, 3)"
      ]
     },
     "execution_count": 3,
     "metadata": {},
     "output_type": "execute_result"
    }
   ],
   "source": [
    "article_topic_distribution = pd.read_csv(PATH_ARTICLE_TOPIC_DISTRIBUTION)\n",
    "article_topic_distribution.shape"
   ]
  },
  {
   "cell_type": "markdown",
   "metadata": {},
   "source": [
    "***Generate Article-Topic Distribution matrix ***"
   ]
  },
  {
   "cell_type": "code",
   "execution_count": 4,
   "metadata": {
    "collapsed": false
   },
   "outputs": [
    {
     "data": {
      "text/plain": [
       "(4831, 150)"
      ]
     },
     "execution_count": 4,
     "metadata": {},
     "output_type": "execute_result"
    }
   ],
   "source": [
    "#Pivot the dataframe\n",
    "article_topic_pivot = article_topic_distribution.pivot(index='Article_Id', columns='Topic_Id', values='Topic_Weight')\n",
    "#Fill NaN with 0\n",
    "article_topic_pivot.fillna(value=0, inplace=True)\n",
    "#Get the values in dataframe as matrix\n",
    "articles_topic_matrix = article_topic_pivot.values\n",
    "articles_topic_matrix.shape"
   ]
  },
  {
   "cell_type": "markdown",
   "metadata": {},
   "source": [
    "## 2. Represent user in terms of Topic Vector of read articles\n"
   ]
  },
  {
   "cell_type": "markdown",
   "metadata": {},
   "source": [
    "***A user vector is represented in terms of average of read articles topic vector***"
   ]
  },
  {
   "cell_type": "code",
   "execution_count": 5,
   "metadata": {
    "collapsed": false
   },
   "outputs": [
    {
     "data": {
      "text/plain": [
       "(1, 150)"
      ]
     },
     "execution_count": 5,
     "metadata": {},
     "output_type": "execute_result"
    }
   ],
   "source": [
    "#Select user in terms of read article topic distribution\n",
    "row_idx = np.array(ARTICLES_READ)\n",
    "read_articles_topic_matrix=articles_topic_matrix[row_idx[:, None]]\n",
    "#Calculate the average of read articles topic vector \n",
    "user_vector = np.mean(read_articles_topic_matrix, axis=0)\n",
    "user_vector.shape"
   ]
  },
  {
   "cell_type": "markdown",
   "metadata": {},
   "source": [
    "## 3. Calculate cosine similarity between read and unread articles "
   ]
  },
  {
   "cell_type": "code",
   "execution_count": 6,
   "metadata": {
    "collapsed": false
   },
   "outputs": [],
   "source": [
    "#Calculate cosine similarity between the corpus and user\n",
    "cos_sim = cosine_similarity(articles_topic_matrix, user_vector)\n",
    "#Get those  article_ids having maximum similarity with user\n",
    "recommended_articles_id = np.concatenate( cos_sim, axis=0 ).argsort()[:][::-1]"
   ]
  },
  {
   "cell_type": "code",
   "execution_count": 7,
   "metadata": {
    "collapsed": false
   },
   "outputs": [
    {
     "data": {
      "text/plain": [
       "array([2843,    2, 3419, ..., 2342, 4461, 4830])"
      ]
     },
     "execution_count": 7,
     "metadata": {},
     "output_type": "execute_result"
    }
   ],
   "source": [
    "recommended_articles_id"
   ]
  },
  {
   "cell_type": "code",
   "execution_count": 8,
   "metadata": {
    "collapsed": false
   },
   "outputs": [
    {
     "data": {
      "text/plain": [
       "[2843, 3419, 2760, 3123, 3307]"
      ]
     },
     "execution_count": 8,
     "metadata": {},
     "output_type": "execute_result"
    }
   ],
   "source": [
    "#Remove read articles from recommendations\n",
    "final_recommended_articles_id = [article_id for article_id in recommended_articles_id if article_id not in ARTICLES_READ ][:NO_RECOMMENDED_ARTICLES]\n",
    "final_recommended_articles_id"
   ]
  },
  {
   "cell_type": "markdown",
   "metadata": {},
   "source": [
    "# 4. Recommendation Using Topic Model:-"
   ]
  },
  {
   "cell_type": "code",
   "execution_count": 9,
   "metadata": {
    "collapsed": false
   },
   "outputs": [
    {
     "name": "stdout",
     "output_type": "stream",
     "text": [
      "Articles Read\n",
      "2    US  South Korea begin joint military drill ami...\n",
      "7    Dialogue crucial in finding permanent solution...\n",
      "Name: Title, dtype: object\n",
      "\n",
      "\n",
      "Recommender \n",
      "2760    Rajnath Singh s security is Pak s responsibili...\n",
      "2843    Siachen avalanche  Indian Army says missing so...\n",
      "3123    Military Plane Crashes Outside Seville Airport...\n",
      "3307    Europe survives  year of hell   but worse expe...\n",
      "3419    Jammu   Kashmir  Army Indicts 9 Soldiers for K...\n",
      "Name: Title, dtype: object\n"
     ]
    }
   ],
   "source": [
    "#Recommended Articles and their title\n",
    "news_articles = pd.read_csv(PATH_NEWS_ARTICLES)\n",
    "print 'Articles Read'\n",
    "print news_articles.loc[news_articles['Article_Id'].isin(ARTICLES_READ)]['Title']\n",
    "print '\\n'\n",
    "print 'Recommender '\n",
    "print news_articles.loc[news_articles['Article_Id'].isin(final_recommended_articles_id)]['Title']"
   ]
  },
  {
   "cell_type": "markdown",
   "metadata": {
    "collapsed": true
   },
   "source": [
    "# Topics + NER Recommender"
   ]
  },
  {
   "cell_type": "markdown",
   "metadata": {},
   "source": [
    "# Topic + NER Based Recommender\n",
    "\n",
    "1. Represent user in terms of - <br/>\n",
    "        (Alpha) <Topic Vector> + (1-Alpha) <NER Vector> <br/>\n",
    "   where <br/>\n",
    "   Alpha => [0,1] <br/>\n",
    "   [Topic Vector] => Topic vector representation of concatenated read articles <br/>\n",
    "   [NER Vector]   => Topic vector representation of NERs associated with concatenated read articles <br/>\n",
    "2. Calculate cosine similarity between user vector and articles TF-IDF matrix\n",
    "3. Get the recommended articles "
   ]
  },
  {
   "cell_type": "code",
   "execution_count": 13,
   "metadata": {
    "collapsed": true
   },
   "outputs": [],
   "source": [
    "ALPHA = 0.5\n",
    "DICTIONARY_PATH = \"/home/phoenix/Documents/HandsOn/Final/python/Topic Model/model/dictionary_of_vocabulary.p\"\n",
    "LDA_MODEL_PATH = \"/home/phoenix/Documents/HandsOn/Final/python/Topic Model/model/lda.model\""
   ]
  },
  {
   "cell_type": "raw",
   "metadata": {},
   "source": [
    "# 1. Represent User in terms of Topic Distribution and NER\n",
    "\n",
    "1. Represent user in terms of read article topic distribution\n",
    "2. Represent user in terms of NERs associated with read articles\n",
    "        2.1 Concatenate NERs of read articles\n",
    "        2.2 Load LDA model\n",
    "        2.3 Get topic distribution for the concated NERs\n",
    "3. Generate user vector"
   ]
  },
  {
   "cell_type": "code",
   "execution_count": 12,
   "metadata": {
    "collapsed": false
   },
   "outputs": [
    {
     "data": {
      "text/plain": [
       "(1, 150)"
      ]
     },
     "execution_count": 12,
     "metadata": {},
     "output_type": "execute_result"
    }
   ],
   "source": [
    "#Select user in terms of read article topic distribution\n",
    "row_idx = np.array(ARTICLES_READ)\n",
    "read_articles_topic_matrix=articles_topic_matrix[row_idx[:, None]]\n",
    "#Calculate the average of read articles topic vector \n",
    "user_topic_vector = np.mean(read_articles_topic_matrix, axis=0)\n",
    "user_topic_vector.shape"
   ]
  },
  {
   "cell_type": "code",
   "execution_count": null,
   "metadata": {
    "collapsed": true
   },
   "outputs": [],
   "source": [
    "# 2"
   ]
  },
  {
   "cell_type": "code",
   "execution_count": null,
   "metadata": {
    "collapsed": true
   },
   "outputs": [],
   "source": []
  }
 ],
 "metadata": {
  "kernelspec": {
   "display_name": "Python 2",
   "language": "python",
   "name": "python2"
  },
  "language_info": {
   "codemirror_mode": {
    "name": "ipython",
    "version": 2
   },
   "file_extension": ".py",
   "mimetype": "text/x-python",
   "name": "python",
   "nbconvert_exporter": "python",
   "pygments_lexer": "ipython2",
   "version": "2.7.13"
  }
 },
 "nbformat": 4,
 "nbformat_minor": 2
}
