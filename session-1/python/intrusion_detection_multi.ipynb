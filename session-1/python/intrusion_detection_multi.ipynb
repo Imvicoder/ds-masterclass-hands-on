{
 "cells": [
  {
   "cell_type": "code",
   "execution_count": 91,
   "metadata": {
    "collapsed": true
   },
   "outputs": [],
   "source": [
    "# for data manipulation\n",
    "import pandas as pd\n",
    "import numpy as np\n",
    "\n",
    "# plotting graphs\n",
    "import matplotlib.pyplot as plt\n",
    "import seaborn as sns\n",
    "%matplotlib inline\n",
    "\n",
    "#models to run\n",
    "from sklearn.tree import DecisionTreeClassifier\n",
    "from sklearn.ensemble import RandomForestClassifier\n",
    "from sklearn.multiclass import OneVsRestClassifier\n",
    "from sklearn.multiclass import OneVsOneClassifier\n",
    "from sklearn.preprocessing import LabelBinarizer\n",
    "\n",
    "# train_test split\n",
    "from sklearn.model_selection import train_test_split,StratifiedKFold, cross_val_score\n",
    "\n",
    "#save model to file\n",
    "from sklearn.externals import joblib\n",
    "\n",
    "#metrics\n",
    "from sklearn.metrics import confusion_matrix,accuracy_score,precision_recall_fscore_support \n"
   ]
  },
  {
   "cell_type": "code",
   "execution_count": 9,
   "metadata": {
    "collapsed": true
   },
   "outputs": [],
   "source": [
    "# read raw data\n",
    "raw_data = pd.read_csv('/home/sourabh/Downloads/kddcup.data_10_percent1.csv')"
   ]
  },
  {
   "cell_type": "code",
   "execution_count": 10,
   "metadata": {},
   "outputs": [
    {
     "data": {
      "text/html": [
       "<div>\n",
       "<table border=\"1\" class=\"dataframe\">\n",
       "  <thead>\n",
       "    <tr style=\"text-align: right;\">\n",
       "      <th></th>\n",
       "      <th>duration</th>\n",
       "      <th>protocol_type</th>\n",
       "      <th>service</th>\n",
       "      <th>flag</th>\n",
       "      <th>src_bytes</th>\n",
       "      <th>dst_bytes</th>\n",
       "      <th>land</th>\n",
       "      <th>wrong_fragment</th>\n",
       "      <th>urgent</th>\n",
       "      <th>hot</th>\n",
       "      <th>...</th>\n",
       "      <th>dst_host_srv_count</th>\n",
       "      <th>dst_host_same_srv_rate</th>\n",
       "      <th>dst_host_diff_srv_rate</th>\n",
       "      <th>dst_host_same_src_port_rate</th>\n",
       "      <th>dst_host_srv_diff_host_rate</th>\n",
       "      <th>dst_host_serror_rate</th>\n",
       "      <th>dst_host_srv_serror_rate</th>\n",
       "      <th>dst_host_rerror_rate</th>\n",
       "      <th>dst_host_srv_rerror_rate</th>\n",
       "      <th>label</th>\n",
       "    </tr>\n",
       "  </thead>\n",
       "  <tbody>\n",
       "    <tr>\n",
       "      <th>0</th>\n",
       "      <td>0</td>\n",
       "      <td>tcp</td>\n",
       "      <td>http</td>\n",
       "      <td>SF</td>\n",
       "      <td>181</td>\n",
       "      <td>5450</td>\n",
       "      <td>0</td>\n",
       "      <td>0</td>\n",
       "      <td>0</td>\n",
       "      <td>0</td>\n",
       "      <td>...</td>\n",
       "      <td>9</td>\n",
       "      <td>1</td>\n",
       "      <td>0</td>\n",
       "      <td>0.11</td>\n",
       "      <td>0</td>\n",
       "      <td>0</td>\n",
       "      <td>0</td>\n",
       "      <td>0</td>\n",
       "      <td>0</td>\n",
       "      <td>normal.</td>\n",
       "    </tr>\n",
       "    <tr>\n",
       "      <th>1</th>\n",
       "      <td>0</td>\n",
       "      <td>tcp</td>\n",
       "      <td>http</td>\n",
       "      <td>SF</td>\n",
       "      <td>239</td>\n",
       "      <td>486</td>\n",
       "      <td>0</td>\n",
       "      <td>0</td>\n",
       "      <td>0</td>\n",
       "      <td>0</td>\n",
       "      <td>...</td>\n",
       "      <td>19</td>\n",
       "      <td>1</td>\n",
       "      <td>0</td>\n",
       "      <td>0.05</td>\n",
       "      <td>0</td>\n",
       "      <td>0</td>\n",
       "      <td>0</td>\n",
       "      <td>0</td>\n",
       "      <td>0</td>\n",
       "      <td>normal.</td>\n",
       "    </tr>\n",
       "    <tr>\n",
       "      <th>2</th>\n",
       "      <td>0</td>\n",
       "      <td>tcp</td>\n",
       "      <td>http</td>\n",
       "      <td>SF</td>\n",
       "      <td>235</td>\n",
       "      <td>1337</td>\n",
       "      <td>0</td>\n",
       "      <td>0</td>\n",
       "      <td>0</td>\n",
       "      <td>0</td>\n",
       "      <td>...</td>\n",
       "      <td>29</td>\n",
       "      <td>1</td>\n",
       "      <td>0</td>\n",
       "      <td>0.03</td>\n",
       "      <td>0</td>\n",
       "      <td>0</td>\n",
       "      <td>0</td>\n",
       "      <td>0</td>\n",
       "      <td>0</td>\n",
       "      <td>normal.</td>\n",
       "    </tr>\n",
       "    <tr>\n",
       "      <th>3</th>\n",
       "      <td>0</td>\n",
       "      <td>tcp</td>\n",
       "      <td>http</td>\n",
       "      <td>SF</td>\n",
       "      <td>219</td>\n",
       "      <td>1337</td>\n",
       "      <td>0</td>\n",
       "      <td>0</td>\n",
       "      <td>0</td>\n",
       "      <td>0</td>\n",
       "      <td>...</td>\n",
       "      <td>39</td>\n",
       "      <td>1</td>\n",
       "      <td>0</td>\n",
       "      <td>0.03</td>\n",
       "      <td>0</td>\n",
       "      <td>0</td>\n",
       "      <td>0</td>\n",
       "      <td>0</td>\n",
       "      <td>0</td>\n",
       "      <td>normal.</td>\n",
       "    </tr>\n",
       "    <tr>\n",
       "      <th>4</th>\n",
       "      <td>0</td>\n",
       "      <td>tcp</td>\n",
       "      <td>http</td>\n",
       "      <td>SF</td>\n",
       "      <td>217</td>\n",
       "      <td>2032</td>\n",
       "      <td>0</td>\n",
       "      <td>0</td>\n",
       "      <td>0</td>\n",
       "      <td>0</td>\n",
       "      <td>...</td>\n",
       "      <td>49</td>\n",
       "      <td>1</td>\n",
       "      <td>0</td>\n",
       "      <td>0.02</td>\n",
       "      <td>0</td>\n",
       "      <td>0</td>\n",
       "      <td>0</td>\n",
       "      <td>0</td>\n",
       "      <td>0</td>\n",
       "      <td>normal.</td>\n",
       "    </tr>\n",
       "  </tbody>\n",
       "</table>\n",
       "<p>5 rows × 42 columns</p>\n",
       "</div>"
      ],
      "text/plain": [
       "   duration protocol_type service flag  src_bytes  dst_bytes  land  \\\n",
       "0         0           tcp    http   SF        181       5450     0   \n",
       "1         0           tcp    http   SF        239        486     0   \n",
       "2         0           tcp    http   SF        235       1337     0   \n",
       "3         0           tcp    http   SF        219       1337     0   \n",
       "4         0           tcp    http   SF        217       2032     0   \n",
       "\n",
       "   wrong_fragment  urgent  hot   ...     dst_host_srv_count  \\\n",
       "0               0       0    0   ...                      9   \n",
       "1               0       0    0   ...                     19   \n",
       "2               0       0    0   ...                     29   \n",
       "3               0       0    0   ...                     39   \n",
       "4               0       0    0   ...                     49   \n",
       "\n",
       "   dst_host_same_srv_rate  dst_host_diff_srv_rate  \\\n",
       "0                       1                       0   \n",
       "1                       1                       0   \n",
       "2                       1                       0   \n",
       "3                       1                       0   \n",
       "4                       1                       0   \n",
       "\n",
       "   dst_host_same_src_port_rate  dst_host_srv_diff_host_rate  \\\n",
       "0                         0.11                            0   \n",
       "1                         0.05                            0   \n",
       "2                         0.03                            0   \n",
       "3                         0.03                            0   \n",
       "4                         0.02                            0   \n",
       "\n",
       "   dst_host_serror_rate  dst_host_srv_serror_rate  dst_host_rerror_rate  \\\n",
       "0                     0                         0                     0   \n",
       "1                     0                         0                     0   \n",
       "2                     0                         0                     0   \n",
       "3                     0                         0                     0   \n",
       "4                     0                         0                     0   \n",
       "\n",
       "   dst_host_srv_rerror_rate    label  \n",
       "0                         0  normal.  \n",
       "1                         0  normal.  \n",
       "2                         0  normal.  \n",
       "3                         0  normal.  \n",
       "4                         0  normal.  \n",
       "\n",
       "[5 rows x 42 columns]"
      ]
     },
     "execution_count": 10,
     "metadata": {},
     "output_type": "execute_result"
    }
   ],
   "source": [
    "raw_data.head()"
   ]
  },
  {
   "cell_type": "code",
   "execution_count": 16,
   "metadata": {},
   "outputs": [
    {
     "data": {
      "text/plain": [
       "(145585, 42)"
      ]
     },
     "execution_count": 16,
     "metadata": {},
     "output_type": "execute_result"
    }
   ],
   "source": [
    "raw_data.shape"
   ]
  },
  {
   "cell_type": "code",
   "execution_count": 12,
   "metadata": {
    "collapsed": true
   },
   "outputs": [],
   "source": [
    "# remove \". \" from labels\n",
    "raw_data['label'] = raw_data['label'].apply(lambda x: x[:-1])"
   ]
  },
  {
   "cell_type": "code",
   "execution_count": 13,
   "metadata": {},
   "outputs": [
    {
     "data": {
      "text/plain": [
       "23"
      ]
     },
     "execution_count": 13,
     "metadata": {},
     "output_type": "execute_result"
    }
   ],
   "source": [
    "raw_data['label'].nunique()"
   ]
  },
  {
   "cell_type": "code",
   "execution_count": 15,
   "metadata": {},
   "outputs": [
    {
     "data": {
      "text/plain": [
       "(145585, 42)"
      ]
     },
     "execution_count": 15,
     "metadata": {},
     "output_type": "execute_result"
    }
   ],
   "source": [
    "# drop duplicate records\n",
    "raw_data.drop_duplicates(inplace = True)\n",
    "raw_data.shape"
   ]
  },
  {
   "cell_type": "code",
   "execution_count": 18,
   "metadata": {},
   "outputs": [
    {
     "data": {
      "text/plain": [
       "(array([ 0,  1,  2,  3,  4,  5,  6,  7,  8,  9, 10, 11, 12, 13, 14, 15, 16,\n",
       "        17, 18, 19, 20, 21, 22]), <a list of 23 Text xticklabel objects>)"
      ]
     },
     "execution_count": 18,
     "metadata": {},
     "output_type": "execute_result"
    },
    {
     "data": {
      "image/png": "[encoded data removed]",
      "text/plain": [
       "<matplotlib.figure.Figure at 0x7ff91d0539d0>"
      ]
     },
     "metadata": {},
     "output_type": "display_data"
    }
   ],
   "source": [
    "# distribution of labels\n",
    "\n",
    "sns.set_color_codes()\n",
    "\n",
    "fig, ax1 = plt.subplots(1,1, figsize = (18,6))\n",
    "\n",
    "sns.countplot('label', data = raw_data,palette=\"Set2\", ax = ax1)\n",
    "plt.xticks(rotation=30)"
   ]
  },
  {
   "cell_type": "code",
   "execution_count": 20,
   "metadata": {},
   "outputs": [
    {
     "name": "stdout",
     "output_type": "stream",
     "text": [
      "0    normal\n",
      "1    normal\n",
      "2    normal\n",
      "3    normal\n",
      "4    normal\n",
      "Name: label_attack_type, dtype: object\n"
     ]
    },
    {
     "data": {
      "text/plain": [
       "normal    87839\n",
       "dos       54572\n",
       "probes     2131\n",
       "rtl         991\n",
       "utr          52\n",
       "dtype: int64"
      ]
     },
     "execution_count": 20,
     "metadata": {},
     "output_type": "execute_result"
    }
   ],
   "source": [
    "# combining labels as normal, denial of Service, user to root, remote to local, probes\n",
    "\n",
    "def label_grouping(label):\n",
    "    if label in ['back', 'land', 'neptune', 'pod', 'smurf', 'teardrop']: \n",
    "        return 'dos'\n",
    "    elif label in ['buffer_overflow', 'loadmodule','perl', 'rootkit']:\n",
    "        return 'utr'\n",
    "    elif label in ['Ftp_write', 'guess_passwd', 'imap', 'multihop', 'phf', 'spy','warezclient', 'warezmaster']:\n",
    "        return 'rtl'\n",
    "    elif label in ['satan', 'ipsweep', 'nmap', 'portsweep']:\n",
    "        return 'probes'\n",
    "    else:\n",
    "        return 'normal'\n",
    "\n",
    "raw_data['label_attack_type']= raw_data['label'].apply(label_grouping)\n",
    "print(raw_data['label_attack_type'].head())\n",
    "raw_data['label_attack_type'].value_counts()"
   ]
  },
  {
   "cell_type": "code",
   "execution_count": 21,
   "metadata": {},
   "outputs": [
    {
     "data": {
      "text/plain": [
       "(array([0, 1, 2, 3, 4]), <a list of 5 Text xticklabel objects>)"
      ]
     },
     "execution_count": 21,
     "metadata": {},
     "output_type": "execute_result"
    },
    {
     "data": {
      "image/png": "[encoded data removed]",
      "text/plain": [
       "<matplotlib.figure.Figure at 0x7ff8ec6dac10>"
      ]
     },
     "metadata": {},
     "output_type": "display_data"
    }
   ],
   "source": [
    "# distribution of label_attack_type\n",
    "\n",
    "fig, ax1 = plt.subplots(1,1, figsize = (18,6))\n",
    "\n",
    "sns.countplot('label_attack_type', data = raw_data,palette=\"Set2\", ax = ax1)\n",
    "plt.xticks(rotation=10)"
   ]
  },
  {
   "cell_type": "code",
   "execution_count": 22,
   "metadata": {},
   "outputs": [
    {
     "data": {
      "text/plain": [
       "Index([u'duration', u'protocol_type', u'service', u'flag', u'src_bytes',\n",
       "       u'dst_bytes', u'land', u'wrong_fragment', u'urgent', u'hot',\n",
       "       u'num_failed_logins', u'logged_in', u'num_compromised', u'root_shell',\n",
       "       u'su_attempted', u'num_root', u'num_file_creations', u'num_shells',\n",
       "       u'num_access_files', u'num_outbound_cmds', u'is_host_login',\n",
       "       u'is_guest_login', u'count', u'srv_count', u'serror_rate',\n",
       "       u'srv_serror_rate', u'rerror_rate', u'srv_rerror_rate',\n",
       "       u'same_srv_rate', u'diff_srv_rate', u'srv_diff_host_rate',\n",
       "       u'dst_host_count', u'dst_host_srv_count', u'dst_host_same_srv_rate',\n",
       "       u'dst_host_diff_srv_rate', u'dst_host_same_src_port_rate',\n",
       "       u'dst_host_srv_diff_host_rate', u'dst_host_serror_rate',\n",
       "       u'dst_host_srv_serror_rate', u'dst_host_rerror_rate',\n",
       "       u'dst_host_srv_rerror_rate', u'label', u'label_attack_type'],\n",
       "      dtype='object')"
      ]
     },
     "execution_count": 22,
     "metadata": {},
     "output_type": "execute_result"
    }
   ],
   "source": [
    "raw_data.columns"
   ]
  },
  {
   "cell_type": "code",
   "execution_count": 24,
   "metadata": {
    "scrolled": true
   },
   "outputs": [
    {
     "data": {
      "image/png": "[encoded data removed]",
      "text/plain": [
       "<matplotlib.figure.Figure at 0x7ff8e13f31d0>"
      ]
     },
     "metadata": {},
     "output_type": "display_data"
    },
    {
     "data": {
      "image/png": "[encoded data removed]",
      "text/plain": [
       "<matplotlib.figure.Figure at 0x7ff8df8a3990>"
      ]
     },
     "metadata": {},
     "output_type": "display_data"
    },
    {
     "data": {
      "image/png": "[encoded data removed]",
      "text/plain": [
       "<matplotlib.figure.Figure at 0x7ff8df5c5750>"
      ]
     },
     "metadata": {},
     "output_type": "display_data"
    },
    {
     "data": {
      "image/png": "[encoded data removed]",
      "text/plain": [
       "<matplotlib.figure.Figure at 0x7ff8df9eb490>"
      ]
     },
     "metadata": {},
     "output_type": "display_data"
    },
    {
     "data": {
      "image/png": "[encoded data removed]",
      "text/plain": [
       "<matplotlib.figure.Figure at 0x7ff8df409a10>"
      ]
     },
     "metadata": {},
     "output_type": "display_data"
    },
    {
     "data": {
      "image/png": "[encoded data removed]",
      "text/plain": [
       "<matplotlib.figure.Figure at 0x7ff8df3b9b90>"
      ]
     },
     "metadata": {},
     "output_type": "display_data"
    }
   ],
   "source": [
    "# distribution of categorical variables with 'label_attack_type'\n",
    "sns.set()\n",
    "categorical_cols = ['protocol_type','flag','land','logged_in','is_host_login','is_guest_login']\n",
    "\n",
    "for col in categorical_cols:\n",
    "    plt.figure()\n",
    "    sns.countplot(x=col, hue=\"label_attack_type\",data=raw_data, palette=\"Set2\")"
   ]
  },
  {
   "cell_type": "code",
   "execution_count": 25,
   "metadata": {},
   "outputs": [
    {
     "data": {
      "text/plain": [
       "0    87839\n",
       "1    54572\n",
       "4     2131\n",
       "3      991\n",
       "2       52\n",
       "dtype: int64"
      ]
     },
     "execution_count": 25,
     "metadata": {},
     "output_type": "execute_result"
    }
   ],
   "source": [
    "def encoding_label(label):\n",
    "    if label == 'dos':\n",
    "        return 1\n",
    "    elif label == 'utr':\n",
    "        return 2\n",
    "    elif label == 'rtl':\n",
    "        return 3\n",
    "    elif label == 'probes':\n",
    "        return 4\n",
    "    else:\n",
    "        return 0\n",
    "\n",
    "raw_data['label_encoding']= raw_data['label_attack_type'].apply(encoding_label)\n",
    "raw_data['label_encoding'].value_counts()"
   ]
  },
  {
   "cell_type": "code",
   "execution_count": 27,
   "metadata": {
    "collapsed": true
   },
   "outputs": [],
   "source": [
    "#one hot encoding of categorical variables\n",
    "flag_encoding = pd.get_dummies(raw_data['flag'],prefix = 'flag')\n",
    "service_encoding = pd.get_dummies(raw_data['service'],prefix = 'service')\n",
    "protocol_encoding = pd.get_dummies(raw_data['protocol_type'],prefix = 'protocol')\n",
    "\n",
    "# concat with original dataframe\n",
    "raw_data = pd.concat([raw_data, flag_encoding,service_encoding,protocol_encoding],axis =1)"
   ]
  },
  {
   "cell_type": "code",
   "execution_count": 28,
   "metadata": {},
   "outputs": [
    {
     "data": {
      "text/html": [
       "<div>\n",
       "<table border=\"1\" class=\"dataframe\">\n",
       "  <thead>\n",
       "    <tr style=\"text-align: right;\">\n",
       "      <th></th>\n",
       "      <th>duration</th>\n",
       "      <th>protocol_type</th>\n",
       "      <th>service</th>\n",
       "      <th>flag</th>\n",
       "      <th>src_bytes</th>\n",
       "      <th>dst_bytes</th>\n",
       "      <th>land</th>\n",
       "      <th>wrong_fragment</th>\n",
       "      <th>urgent</th>\n",
       "      <th>hot</th>\n",
       "      <th>...</th>\n",
       "      <th>service_time</th>\n",
       "      <th>service_urh_i</th>\n",
       "      <th>service_urp_i</th>\n",
       "      <th>service_uucp</th>\n",
       "      <th>service_uucp_path</th>\n",
       "      <th>service_vmnet</th>\n",
       "      <th>service_whois</th>\n",
       "      <th>protocol_icmp</th>\n",
       "      <th>protocol_tcp</th>\n",
       "      <th>protocol_udp</th>\n",
       "    </tr>\n",
       "  </thead>\n",
       "  <tbody>\n",
       "    <tr>\n",
       "      <th>0</th>\n",
       "      <td>0</td>\n",
       "      <td>tcp</td>\n",
       "      <td>http</td>\n",
       "      <td>SF</td>\n",
       "      <td>181</td>\n",
       "      <td>5450</td>\n",
       "      <td>0</td>\n",
       "      <td>0</td>\n",
       "      <td>0</td>\n",
       "      <td>0</td>\n",
       "      <td>...</td>\n",
       "      <td>0</td>\n",
       "      <td>0</td>\n",
       "      <td>0</td>\n",
       "      <td>0</td>\n",
       "      <td>0</td>\n",
       "      <td>0</td>\n",
       "      <td>0</td>\n",
       "      <td>0</td>\n",
       "      <td>1</td>\n",
       "      <td>0</td>\n",
       "    </tr>\n",
       "    <tr>\n",
       "      <th>1</th>\n",
       "      <td>0</td>\n",
       "      <td>tcp</td>\n",
       "      <td>http</td>\n",
       "      <td>SF</td>\n",
       "      <td>239</td>\n",
       "      <td>486</td>\n",
       "      <td>0</td>\n",
       "      <td>0</td>\n",
       "      <td>0</td>\n",
       "      <td>0</td>\n",
       "      <td>...</td>\n",
       "      <td>0</td>\n",
       "      <td>0</td>\n",
       "      <td>0</td>\n",
       "      <td>0</td>\n",
       "      <td>0</td>\n",
       "      <td>0</td>\n",
       "      <td>0</td>\n",
       "      <td>0</td>\n",
       "      <td>1</td>\n",
       "      <td>0</td>\n",
       "    </tr>\n",
       "    <tr>\n",
       "      <th>2</th>\n",
       "      <td>0</td>\n",
       "      <td>tcp</td>\n",
       "      <td>http</td>\n",
       "      <td>SF</td>\n",
       "      <td>235</td>\n",
       "      <td>1337</td>\n",
       "      <td>0</td>\n",
       "      <td>0</td>\n",
       "      <td>0</td>\n",
       "      <td>0</td>\n",
       "      <td>...</td>\n",
       "      <td>0</td>\n",
       "      <td>0</td>\n",
       "      <td>0</td>\n",
       "      <td>0</td>\n",
       "      <td>0</td>\n",
       "      <td>0</td>\n",
       "      <td>0</td>\n",
       "      <td>0</td>\n",
       "      <td>1</td>\n",
       "      <td>0</td>\n",
       "    </tr>\n",
       "    <tr>\n",
       "      <th>3</th>\n",
       "      <td>0</td>\n",
       "      <td>tcp</td>\n",
       "      <td>http</td>\n",
       "      <td>SF</td>\n",
       "      <td>219</td>\n",
       "      <td>1337</td>\n",
       "      <td>0</td>\n",
       "      <td>0</td>\n",
       "      <td>0</td>\n",
       "      <td>0</td>\n",
       "      <td>...</td>\n",
       "      <td>0</td>\n",
       "      <td>0</td>\n",
       "      <td>0</td>\n",
       "      <td>0</td>\n",
       "      <td>0</td>\n",
       "      <td>0</td>\n",
       "      <td>0</td>\n",
       "      <td>0</td>\n",
       "      <td>1</td>\n",
       "      <td>0</td>\n",
       "    </tr>\n",
       "    <tr>\n",
       "      <th>4</th>\n",
       "      <td>0</td>\n",
       "      <td>tcp</td>\n",
       "      <td>http</td>\n",
       "      <td>SF</td>\n",
       "      <td>217</td>\n",
       "      <td>2032</td>\n",
       "      <td>0</td>\n",
       "      <td>0</td>\n",
       "      <td>0</td>\n",
       "      <td>0</td>\n",
       "      <td>...</td>\n",
       "      <td>0</td>\n",
       "      <td>0</td>\n",
       "      <td>0</td>\n",
       "      <td>0</td>\n",
       "      <td>0</td>\n",
       "      <td>0</td>\n",
       "      <td>0</td>\n",
       "      <td>0</td>\n",
       "      <td>1</td>\n",
       "      <td>0</td>\n",
       "    </tr>\n",
       "  </tbody>\n",
       "</table>\n",
       "<p>5 rows × 124 columns</p>\n",
       "</div>"
      ],
      "text/plain": [
       "   duration protocol_type service flag  src_bytes  dst_bytes  land  \\\n",
       "0         0           tcp    http   SF        181       5450     0   \n",
       "1         0           tcp    http   SF        239        486     0   \n",
       "2         0           tcp    http   SF        235       1337     0   \n",
       "3         0           tcp    http   SF        219       1337     0   \n",
       "4         0           tcp    http   SF        217       2032     0   \n",
       "\n",
       "   wrong_fragment  urgent  hot      ...       service_time  service_urh_i  \\\n",
       "0               0       0    0      ...                  0              0   \n",
       "1               0       0    0      ...                  0              0   \n",
       "2               0       0    0      ...                  0              0   \n",
       "3               0       0    0      ...                  0              0   \n",
       "4               0       0    0      ...                  0              0   \n",
       "\n",
       "   service_urp_i  service_uucp  service_uucp_path  service_vmnet  \\\n",
       "0              0             0                  0              0   \n",
       "1              0             0                  0              0   \n",
       "2              0             0                  0              0   \n",
       "3              0             0                  0              0   \n",
       "4              0             0                  0              0   \n",
       "\n",
       "   service_whois  protocol_icmp  protocol_tcp  protocol_udp  \n",
       "0              0              0             1             0  \n",
       "1              0              0             1             0  \n",
       "2              0              0             1             0  \n",
       "3              0              0             1             0  \n",
       "4              0              0             1             0  \n",
       "\n",
       "[5 rows x 124 columns]"
      ]
     },
     "execution_count": 28,
     "metadata": {},
     "output_type": "execute_result"
    }
   ],
   "source": [
    "raw_data.head()"
   ]
  },
  {
   "cell_type": "markdown",
   "metadata": {},
   "source": [
    "### Stratified sampling"
   ]
  },
  {
   "cell_type": "code",
   "execution_count": 30,
   "metadata": {
    "collapsed": true
   },
   "outputs": [],
   "source": [
    "# split into train and test datasets\n",
    "# TODO : Add explanation for not using these predictors.\n",
    "predictors = [c for c in raw_data.columns if c not in ['label', 'label_attack_type', 'index', 'protocol_type',\n",
    "                                                   'flag','service','is_host_login','label_encoding']]\n",
    "\n",
    "X = raw_data[predictors]\n",
    "y = raw_data['label_encoding']\n",
    "\n",
    "X_train, X_test, y_train, y_test = train_test_split(X, y, test_size=0.30, random_state=3, stratify = y)"
   ]
  },
  {
   "cell_type": "code",
   "execution_count": 31,
   "metadata": {},
   "outputs": [
    {
     "name": "stdout",
     "output_type": "stream",
     "text": [
      "0    26352\n",
      "1    16372\n",
      "4      639\n",
      "3      297\n",
      "2       16\n",
      "dtype: int64\n"
     ]
    }
   ],
   "source": [
    "print(y_test.value_counts())"
   ]
  },
  {
   "cell_type": "code",
   "execution_count": 32,
   "metadata": {
    "scrolled": true
   },
   "outputs": [
    {
     "name": "stdout",
     "output_type": "stream",
     "text": [
      "0    61487\n",
      "1    38200\n",
      "4     1492\n",
      "3      694\n",
      "2       36\n",
      "dtype: int64\n"
     ]
    }
   ],
   "source": [
    "print(y_train.value_counts())"
   ]
  },
  {
   "cell_type": "markdown",
   "metadata": {},
   "source": [
    "##### Evaluation function   \n",
    "Metrics - Accuracy, precision, recall, F1 score, Confusion matrix, roc_auc "
   ]
  },
  {
   "cell_type": "code",
   "execution_count": 40,
   "metadata": {
    "collapsed": true
   },
   "outputs": [],
   "source": [
    "def get_performance_metrics(y_test,model_predictions):\n",
    "    # Accuracy\n",
    "    model_accuracy = accuracy_score(y_test,model_predictions)\n",
    "    print(\"Accuracy is \", model_accuracy)\n",
    "\n",
    "    # precision, recall, f1 score\n",
    "    model_precision, model_recall, model_f1, _ = precision_recall_fscore_support(y_test,model_predictions)\n",
    "    print('Precision for each class is ', model_precision)\n",
    "    print('Recall/sensitivity for each class is ', model_recall)\n",
    "    print('F1 Score for each class is ', model_f1)\n",
    "\n",
    "    # confusion matrix\n",
    "    model_confusion_matrix = confusion_matrix(y_test,model_predictions)\n",
    "    print('confusion matrix is :-->')\n",
    "    print(model_confusion_matrix)"
   ]
  },
  {
   "cell_type": "markdown",
   "metadata": {},
   "source": [
    "### Decision Tree"
   ]
  },
  {
   "cell_type": "code",
   "execution_count": 44,
   "metadata": {},
   "outputs": [
    {
     "data": {
      "text/plain": [
       "DecisionTreeClassifier(class_weight=None, criterion='gini', max_depth=None,\n",
       "            max_features=None, max_leaf_nodes=None,\n",
       "            min_impurity_decrease=0.0, min_impurity_split=None,\n",
       "            min_samples_leaf=1, min_samples_split=2,\n",
       "            min_weight_fraction_leaf=0.0, presort=False, random_state=3,\n",
       "            splitter='best')"
      ]
     },
     "execution_count": 44,
     "metadata": {},
     "output_type": "execute_result"
    }
   ],
   "source": [
    "#create instance of decision tree\n",
    "dt_model = DecisionTreeClassifier(random_state = 3)\n",
    "dt_model.fit(X_train, y_train)"
   ]
  },
  {
   "cell_type": "code",
   "execution_count": 42,
   "metadata": {
    "collapsed": true
   },
   "outputs": [],
   "source": [
    "#making predictions\n",
    "dt_predictions = dt_model.predict(X_test)"
   ]
  },
  {
   "cell_type": "code",
   "execution_count": 43,
   "metadata": {},
   "outputs": [
    {
     "name": "stdout",
     "output_type": "stream",
     "text": [
      "('Accuracy is ', 0.99887810239032881)\n",
      "('Precision for each class is ', array([ 0.99920298,  0.99987784,  0.78571429,  0.9632107 ,  0.98133748]))\n",
      "('Recall/sensitivity for each class is ', array([ 0.99905131,  0.99987784,  0.6875    ,  0.96969697,  0.98748044]))\n",
      "('F1 Score for each class is ', array([ 0.99912713,  0.99987784,  0.73333333,  0.96644295,  0.98439938]))\n",
      "confusion matrix is :-->\n",
      "[[26327     2     2     9    12]\n",
      " [    2 16370     0     0     0]\n",
      " [    3     0    11     2     0]\n",
      " [    8     0     1   288     0]\n",
      " [    8     0     0     0   631]]\n"
     ]
    }
   ],
   "source": [
    "get_performance_metrics(y_test,dt_predictions)"
   ]
  },
  {
   "cell_type": "markdown",
   "metadata": {},
   "source": [
    "### Using Straified K-Fold Cross Validation (Decision Tree)\n",
    "\n",
    "maintaining percentage of samples for each class"
   ]
  },
  {
   "cell_type": "code",
   "execution_count": 45,
   "metadata": {},
   "outputs": [
    {
     "name": "stdout",
     "output_type": "stream",
     "text": [
      "------------------------------\n",
      "('Accuracy at 0-Fold is', 0.99894912530135382)\n",
      "('Precision at 0-Fold is', array([ 0.99924866,  0.99989006,  0.53846154,  0.94985251,  0.99433428]))\n",
      "('Recall at 0-Fold is', array([ 0.99928279,  0.99994503,  0.38888889,  0.97280967,  0.98734177]))\n",
      "('F1 score at 0-Fold is', array([ 0.99926572,  0.99991754,  0.4516129 ,  0.96119403,  0.99082569]))\n",
      "Confusion matrix at 0-Fold is :-->\n",
      "[[29259     1     5    11     4]\n",
      " [    1 18190     0     0     0]\n",
      " [    9     0     7     2     0]\n",
      " [    7     1     1   322     0]\n",
      " [    5     0     0     4   702]]\n",
      "------------------------------\n",
      "------------------------------\n",
      "('Accuracy at 1-Fold is', 0.99903148697659083)\n",
      "('Precision at 1-Fold is', array([ 0.99911233,  0.99978009,  0.61538462,  0.98461538,  0.99015471]))\n",
      "('Recall at 1-Fold is', array([ 0.99945355,  0.99967017,  0.47058824,  0.96969697,  0.9915493 ]))\n",
      "('F1 score at 1-Fold is', array([ 0.99928291,  0.99972512,  0.53333333,  0.97709924,  0.99085151]))\n",
      "Confusion matrix at 1-Fold is :-->\n",
      "[[29264     4     2     5     5]\n",
      " [    5 18185     0     0     1]\n",
      " [    8     0     8     0     1]\n",
      " [    7     0     3   320     0]\n",
      " [    6     0     0     0   704]]\n",
      "------------------------------\n",
      "------------------------------\n",
      "('Accuracy at 2-Fold is', 0.99886658698429709)\n",
      "('Precision at 2-Fold is', array([ 0.9992144 ,  0.99972514,  0.58823529,  0.97538462,  0.98324022]))\n",
      "('Recall at 2-Fold is', array([ 0.99914615,  0.9997801 ,  0.58823529,  0.96060606,  0.9915493 ]))\n",
      "('F1 score at 2-Fold is', array([ 0.99918027,  0.99975262,  0.58823529,  0.96793893,  0.98737728]))\n",
      "Confusion matrix at 2-Fold is :-->\n",
      "[[29254     3     4     8    10]\n",
      " [    2 18186     0     0     2]\n",
      " [    7     0    10     0     0]\n",
      " [   10     0     3   317     0]\n",
      " [    4     2     0     0   704]]\n",
      "------------------------------\n",
      "('Average accuracy is', 0.99894906642074721)\n"
     ]
    }
   ],
   "source": [
    "dt_model = DecisionTreeClassifier(random_state = 3)\n",
    "skf = StratifiedKFold(n_splits = 3, shuffle = True, random_state = 2)\n",
    "predictions = []\n",
    "score = []\n",
    "\n",
    "for i, (train_index,test_index) in enumerate(skf.split(X,y)):\n",
    "\n",
    "    train_predictors = X.iloc[train_index]\n",
    "    train_target = y.iloc[train_index]\n",
    "    \n",
    "    test_predictors = X.iloc[test_index]\n",
    "    test_target = y.iloc[test_index]\n",
    "    \n",
    "    #fit the model\n",
    "    dt_model.fit(train_predictors,train_target)\n",
    "    \n",
    "    #make predictions\n",
    "    test_pred = dt_model.predict(test_predictors)\n",
    "   \n",
    "    accuracy = accuracy_score(test_target, test_pred)\n",
    "    score.append(accuracy)\n",
    "    \n",
    "    p, r, f1, support = precision_recall_fscore_support(test_target, test_pred)\n",
    "    confusion = confusion_matrix(test_target, test_pred)\n",
    "    \n",
    "    print('------------------------------')\n",
    "    print('Accuracy at {0}-Fold is'.format(i),accuracy)\n",
    "    print('Precision at {0}-Fold is'.format(i), p)\n",
    "    print('Recall at {0}-Fold is'.format(i), r)\n",
    "    print('F1 score at {0}-Fold is'.format(i), f1)\n",
    "    print('Confusion matrix at {0}-Fold is :-->'.format(i))\n",
    "    print(confusion)\n",
    "    print('------------------------------')\n",
    "    \n",
    "#calculating average accuracy , precision, recall, F1 score   \n",
    "print('Average accuracy is', np.mean(score))\n",
    "\n"
   ]
  },
  {
   "cell_type": "markdown",
   "metadata": {},
   "source": [
    "### Random Forest Model"
   ]
  },
  {
   "cell_type": "code",
   "execution_count": 46,
   "metadata": {
    "collapsed": true
   },
   "outputs": [],
   "source": [
    "#stratified sampling\n",
    "\n",
    "# sss = StratifiedShuffleSplit(n_splits=3, test_size=0.30, random_state=4)\n",
    "# for train_index, test_index in sss.split(X, y):\n",
    "#     X_train, X_test = X[train_index], X[test_index]\n",
    "#     y_train, y_test = y[train_index], y[test_index]\n",
    "\n",
    "rf_model = RandomForestClassifier(n_estimators=1000,n_jobs = -1, random_state=3)"
   ]
  },
  {
   "cell_type": "code",
   "execution_count": 48,
   "metadata": {},
   "outputs": [
    {
     "data": {
      "text/plain": [
       "RandomForestClassifier(bootstrap=True, class_weight=None, criterion='gini',\n",
       "            max_depth=None, max_features='auto', max_leaf_nodes=None,\n",
       "            min_impurity_decrease=0.0, min_impurity_split=None,\n",
       "            min_samples_leaf=1, min_samples_split=2,\n",
       "            min_weight_fraction_leaf=0.0, n_estimators=1000, n_jobs=-1,\n",
       "            oob_score=False, random_state=3, verbose=0, warm_start=False)"
      ]
     },
     "execution_count": 48,
     "metadata": {},
     "output_type": "execute_result"
    }
   ],
   "source": [
    "# fitting data to random forest model\n",
    "rf_model.fit(X_train,y_train)"
   ]
  },
  {
   "cell_type": "code",
   "execution_count": 49,
   "metadata": {
    "collapsed": true
   },
   "outputs": [],
   "source": [
    "# predictions\n",
    "rf_predictions = rf_model.predict(X_test)"
   ]
  },
  {
   "cell_type": "code",
   "execution_count": 51,
   "metadata": {},
   "outputs": [
    {
     "name": "stdout",
     "output_type": "stream",
     "text": [
      "('Accuracy is ', 0.99924443630369086)\n",
      "('Precision for each class is ', array([ 0.99897626,  0.99993892,  0.8125    ,  0.99647887,  0.9984127 ]))\n",
      "('Recall/sensitivity for each class is ', array([ 0.99981026,  0.99993892,  0.8125    ,  0.95286195,  0.98435055]))\n",
      "('F1 Score for each class is ', array([ 0.99939309,  0.99993892,  0.8125    ,  0.97418244,  0.99133176]))\n",
      "confusion matrix is :-->\n",
      "[[26347     1     2     1     1]\n",
      " [    1 16371     0     0     0]\n",
      " [    3     0    13     0     0]\n",
      " [   13     0     1   283     0]\n",
      " [   10     0     0     0   629]]\n"
     ]
    }
   ],
   "source": [
    "get_performance_metrics(y_test,rf_predictions)"
   ]
  },
  {
   "cell_type": "markdown",
   "metadata": {},
   "source": [
    "### One vs Rest Classifier\n",
    "\n",
    "The strategy consists in fitting one classifier per class. For each classifier, the class is fitted against all the other classes."
   ]
  },
  {
   "cell_type": "code",
   "execution_count": 64,
   "metadata": {},
   "outputs": [
    {
     "data": {
      "text/plain": [
       "OneVsRestClassifier(estimator=DecisionTreeClassifier(class_weight=None, criterion='gini', max_depth=None,\n",
       "            max_features=None, max_leaf_nodes=None,\n",
       "            min_impurity_decrease=0.0, min_impurity_split=None,\n",
       "            min_samples_leaf=1, min_samples_split=2,\n",
       "            min_weight_fraction_leaf=0.0, presort=False, random_state=3,\n",
       "            splitter='best'),\n",
       "          n_jobs=1)"
      ]
     },
     "execution_count": 64,
     "metadata": {},
     "output_type": "execute_result"
    }
   ],
   "source": [
    "ovr_dt_model = OneVsRestClassifier(DecisionTreeClassifier(random_state = 3))\n",
    "ovr_dt_model.fit(X_train, y_train)"
   ]
  },
  {
   "cell_type": "code",
   "execution_count": 65,
   "metadata": {
    "collapsed": true
   },
   "outputs": [],
   "source": [
    "#making predictions\n",
    "ovr_dt_predictions = ovr_dt_model.predict(X_test)"
   ]
  },
  {
   "cell_type": "code",
   "execution_count": 66,
   "metadata": {},
   "outputs": [
    {
     "name": "stdout",
     "output_type": "stream",
     "text": [
      "('Accuracy is ', 0.99890099825991396)\n",
      "('Precision for each class is ', array([ 0.99950651,  0.99993891,  0.69230769,  0.98630137,  0.96060606]))\n",
      "('Recall/sensitivity for each class is ', array([ 0.99916515,  0.9996946 ,  0.5625    ,  0.96969697,  0.99217527]))\n",
      "('F1 Score for each class is ', array([ 0.9993358 ,  0.99981674,  0.62068966,  0.97792869,  0.97613549]))\n",
      "confusion matrix is :-->\n",
      "[[26330     1     3     2    16]\n",
      " [    2 16367     0     0     3]\n",
      " [    2     0     9     2     3]\n",
      " [    4     0     1   288     4]\n",
      " [    5     0     0     0   634]]\n"
     ]
    }
   ],
   "source": [
    "get_performance_metrics(y_test,ovr_dt_predictions)"
   ]
  },
  {
   "cell_type": "markdown",
   "metadata": {},
   "source": [
    "### One vs One Classifier\n",
    "\n",
    "This strategy consists in fitting one classifier per class pair. At prediction time, the class which received the most votes is selected. "
   ]
  },
  {
   "cell_type": "code",
   "execution_count": 92,
   "metadata": {},
   "outputs": [
    {
     "data": {
      "text/plain": [
       "OneVsOneClassifier(estimator=DecisionTreeClassifier(class_weight=None, criterion='gini', max_depth=None,\n",
       "            max_features=None, max_leaf_nodes=None,\n",
       "            min_impurity_decrease=0.0, min_impurity_split=None,\n",
       "            min_samples_leaf=1, min_samples_split=2,\n",
       "            min_weight_fraction_leaf=0.0, presort=False, random_state=3,\n",
       "            splitter='best'),\n",
       "          n_jobs=1)"
      ]
     },
     "execution_count": 92,
     "metadata": {},
     "output_type": "execute_result"
    }
   ],
   "source": [
    "ovo_dt_model = OneVsOneClassifier(DecisionTreeClassifier(random_state = 3))\n",
    "ovo_dt_model.fit(X_train, y_train)"
   ]
  },
  {
   "cell_type": "code",
   "execution_count": 93,
   "metadata": {
    "collapsed": true
   },
   "outputs": [],
   "source": [
    "#making predictions\n",
    "ovo_dt_predictions = ovo_dt_model.predict(X_test)"
   ]
  },
  {
   "cell_type": "code",
   "execution_count": 94,
   "metadata": {},
   "outputs": [
    {
     "name": "stdout",
     "output_type": "stream",
     "text": [
      "('Accuracy is ', 0.99890099825991396)\n",
      "('Precision for each class is ', array([ 0.99905167,  0.99987783,  0.66666667,  0.96296296,  0.99055118]))\n",
      "('Recall/sensitivity for each class is ', array([ 0.99943078,  0.99975568,  0.5       ,  0.96296296,  0.98435055]))\n",
      "('F1 Score for each class is ', array([ 0.99924119,  0.99981675,  0.57142857,  0.96296296,  0.98744113]))\n",
      "confusion matrix is :-->\n",
      "[[26337     0     2     9     4]\n",
      " [    2 16368     0     0     2]\n",
      " [    6     0     8     2     0]\n",
      " [    9     0     2   286     0]\n",
      " [    8     2     0     0   629]]\n"
     ]
    }
   ],
   "source": [
    "get_performance_metrics(y_test,ovo_dt_predictions)"
   ]
  },
  {
   "cell_type": "markdown",
   "metadata": {},
   "source": [
    "### Addressing imbalance data at the algorithm level, or after it:\n",
    "\n",
    "#### 1. Adjust the class weight (misclassification costs) for Random Forest"
   ]
  },
  {
   "cell_type": "code",
   "execution_count": 81,
   "metadata": {
    "collapsed": true
   },
   "outputs": [],
   "source": [
    "y_train_columns = pd.get_dummies(y_train,prefix = 'label')"
   ]
  },
  {
   "cell_type": "code",
   "execution_count": 89,
   "metadata": {},
   "outputs": [
    {
     "data": {
      "text/html": [
       "<div>\n",
       "<table border=\"1\" class=\"dataframe\">\n",
       "  <thead>\n",
       "    <tr style=\"text-align: right;\">\n",
       "      <th></th>\n",
       "      <th>0</th>\n",
       "      <th>1</th>\n",
       "      <th>2</th>\n",
       "      <th>3</th>\n",
       "      <th>4</th>\n",
       "    </tr>\n",
       "  </thead>\n",
       "  <tbody>\n",
       "    <tr>\n",
       "      <th>0</th>\n",
       "      <td>0</td>\n",
       "      <td>1</td>\n",
       "      <td>0</td>\n",
       "      <td>0</td>\n",
       "      <td>0</td>\n",
       "    </tr>\n",
       "    <tr>\n",
       "      <th>1</th>\n",
       "      <td>0</td>\n",
       "      <td>1</td>\n",
       "      <td>0</td>\n",
       "      <td>0</td>\n",
       "      <td>0</td>\n",
       "    </tr>\n",
       "    <tr>\n",
       "      <th>2</th>\n",
       "      <td>0</td>\n",
       "      <td>1</td>\n",
       "      <td>0</td>\n",
       "      <td>0</td>\n",
       "      <td>0</td>\n",
       "    </tr>\n",
       "    <tr>\n",
       "      <th>3</th>\n",
       "      <td>0</td>\n",
       "      <td>1</td>\n",
       "      <td>0</td>\n",
       "      <td>0</td>\n",
       "      <td>0</td>\n",
       "    </tr>\n",
       "    <tr>\n",
       "      <th>4</th>\n",
       "      <td>1</td>\n",
       "      <td>0</td>\n",
       "      <td>0</td>\n",
       "      <td>0</td>\n",
       "      <td>0</td>\n",
       "    </tr>\n",
       "  </tbody>\n",
       "</table>\n",
       "</div>"
      ],
      "text/plain": [
       "   0  1  2  3  4\n",
       "0  0  1  0  0  0\n",
       "1  0  1  0  0  0\n",
       "2  0  1  0  0  0\n",
       "3  0  1  0  0  0\n",
       "4  1  0  0  0  0"
      ]
     },
     "execution_count": 89,
     "metadata": {},
     "output_type": "execute_result"
    }
   ],
   "source": [
    "X_train, X_test, y_train, y_test = train_test_split(X, y, test_size=0.30, random_state=3, stratify = y)\n",
    "Cost_weights = [{0: 1, 1: 1}, {0: 1, 1: 5}, {0: 1, 1: 100}, {0: 1, 1: 50},{0: 1, 1: 10}]\n",
    "\n",
    "rf_model = RandomForestClassifier(n_estimators=100,n_jobs = -1, random_state=3, class_weight=Cost_weights)\n",
    "# fitting data to random forest model\n",
    "rf_model.fit(X_train,y_train_columns)\n",
    "\n",
    "# predictions\n",
    "rf_predictions_df = pd.DataFrame(rf_model.predict(X_test))\n",
    "rf_predictions_df.head()"
   ]
  },
  {
   "cell_type": "code",
   "execution_count": 90,
   "metadata": {},
   "outputs": [
    {
     "name": "stdout",
     "output_type": "stream",
     "text": [
      "('Accuracy is ', 0.99894678999908415)\n",
      "('Precision for each class is ', array([ 0.99844632,  0.99993891,  0.85714286,  0.99642857,  0.99839486]))\n",
      "('Recall/sensitivity for each class is ', array([ 0.99984821,  0.99981676,  0.75      ,  0.93939394,  0.97339593]))\n",
      "('F1 Score for each class is ', array([ 0.99914677,  0.99987783,  0.8       ,  0.96707106,  0.98573693]))\n",
      "confusion matrix is :-->\n",
      "[[26348     1     1     1     1]\n",
      " [    3 16369     0     0     0]\n",
      " [    4     0    12     0     0]\n",
      " [   17     0     1   279     0]\n",
      " [   17     0     0     0   622]]\n"
     ]
    }
   ],
   "source": [
    "rf_predictions_df['predict'] =  rf_predictions_df.apply(\n",
    "                        lambda row: row[0]*0 + row[1]*1+row[2]*2 + row[3]*3 + row[4]*4 , axis=1)\n",
    "rf_predictions=rf_predictions_df['predict']\n",
    "get_performance_metrics(y_test,rf_predictions)"
   ]
  }
 ],
 "metadata": {
  "kernelspec": {
   "display_name": "Python 3",
   "language": "python",
   "name": "python3"
  },
  "language_info": {
   "codemirror_mode": {
    "name": "ipython",
    "version": 3
   },
   "file_extension": ".py",
   "mimetype": "text/x-python",
   "name": "python",
   "nbconvert_exporter": "python",
   "pygments_lexer": "ipython3",
   "version": "3.5.2"
  }
 },
 "nbformat": 4,
 "nbformat_minor": 2
}
