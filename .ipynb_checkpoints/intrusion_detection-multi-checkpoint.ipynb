{
 "cells": [
  {
   "cell_type": "code",
   "execution_count": 2,
   "metadata": {
    "collapsed": true
   },
   "outputs": [],
   "source": [
    "# for data manipulation\n",
    "import pandas as pd\n",
    "import numpy as np\n",
    "\n",
    "# plotting graphs\n",
    "import matplotlib.pyplot as plt\n",
    "import seaborn as sns\n",
    "%matplotlib inline\n",
    "\n",
    "#models to run\n",
    "from sklearn.tree import DecisionTreeClassifier\n",
    "from sklearn.ensemble import RandomForestClassifier\n",
    "from xgboost.sklearn import XGBClassifier\n",
    "\n",
    "# train_test split\n",
    "from sklearn.model_selection import train_test_split,StratifiedKFold, cross_val_score\n",
    "\n",
    "#save model to file\n",
    "from sklearn.externals import joblib\n",
    "\n",
    "#metrics\n",
    "from sklearn.metrics import confusion_matrix,accuracy_score,precision_recall_fscore_support \n"
   ]
  },
  {
   "cell_type": "code",
   "execution_count": 25,
   "metadata": {
    "collapsed": true
   },
   "outputs": [],
   "source": [
    "# read raw data\n",
    "\n",
    "raw_df_col = pd.read_csv(\"kddcup.names.txt\", sep = ':')\n",
    "col_names = raw_df_col.iloc[:,0]\n",
    "raw_df = pd.read_csv(\"kddcup.data_10_percent.txt\", header = None,names = col_names)\n",
    "raw_df = raw_df.reset_index()\n"
   ]
  },
  {
   "cell_type": "code",
   "execution_count": 26,
   "metadata": {},
   "outputs": [
    {
     "data": {
      "text/html": [
       "<div>\n",
       "<style>\n",
       "    .dataframe thead tr:only-child th {\n",
       "        text-align: right;\n",
       "    }\n",
       "\n",
       "    .dataframe thead th {\n",
       "        text-align: left;\n",
       "    }\n",
       "\n",
       "    .dataframe tbody tr th {\n",
       "        vertical-align: top;\n",
       "    }\n",
       "</style>\n",
       "<table border=\"1\" class=\"dataframe\">\n",
       "  <thead>\n",
       "    <tr style=\"text-align: right;\">\n",
       "      <th></th>\n",
       "      <th>index</th>\n",
       "      <th>protocol_type</th>\n",
       "      <th>service</th>\n",
       "      <th>flag</th>\n",
       "      <th>src_bytes</th>\n",
       "      <th>dst_bytes</th>\n",
       "      <th>land</th>\n",
       "      <th>wrong_fragment</th>\n",
       "      <th>urgent</th>\n",
       "      <th>hot</th>\n",
       "      <th>...</th>\n",
       "      <th>dst_host_srv_count</th>\n",
       "      <th>dst_host_same_srv_rate</th>\n",
       "      <th>dst_host_diff_srv_rate</th>\n",
       "      <th>dst_host_same_src_port_rate</th>\n",
       "      <th>dst_host_srv_diff_host_rate</th>\n",
       "      <th>dst_host_serror_rate</th>\n",
       "      <th>dst_host_srv_serror_rate</th>\n",
       "      <th>dst_host_rerror_rate</th>\n",
       "      <th>dst_host_srv_rerror_rate</th>\n",
       "      <th>label</th>\n",
       "    </tr>\n",
       "  </thead>\n",
       "  <tbody>\n",
       "    <tr>\n",
       "      <th>0</th>\n",
       "      <td>0</td>\n",
       "      <td>tcp</td>\n",
       "      <td>http</td>\n",
       "      <td>SF</td>\n",
       "      <td>181</td>\n",
       "      <td>5450</td>\n",
       "      <td>0</td>\n",
       "      <td>0</td>\n",
       "      <td>0</td>\n",
       "      <td>0</td>\n",
       "      <td>...</td>\n",
       "      <td>9</td>\n",
       "      <td>1.0</td>\n",
       "      <td>0.0</td>\n",
       "      <td>0.11</td>\n",
       "      <td>0.0</td>\n",
       "      <td>0.0</td>\n",
       "      <td>0.0</td>\n",
       "      <td>0.0</td>\n",
       "      <td>0.0</td>\n",
       "      <td>normal.</td>\n",
       "    </tr>\n",
       "    <tr>\n",
       "      <th>1</th>\n",
       "      <td>0</td>\n",
       "      <td>tcp</td>\n",
       "      <td>http</td>\n",
       "      <td>SF</td>\n",
       "      <td>239</td>\n",
       "      <td>486</td>\n",
       "      <td>0</td>\n",
       "      <td>0</td>\n",
       "      <td>0</td>\n",
       "      <td>0</td>\n",
       "      <td>...</td>\n",
       "      <td>19</td>\n",
       "      <td>1.0</td>\n",
       "      <td>0.0</td>\n",
       "      <td>0.05</td>\n",
       "      <td>0.0</td>\n",
       "      <td>0.0</td>\n",
       "      <td>0.0</td>\n",
       "      <td>0.0</td>\n",
       "      <td>0.0</td>\n",
       "      <td>normal.</td>\n",
       "    </tr>\n",
       "    <tr>\n",
       "      <th>2</th>\n",
       "      <td>0</td>\n",
       "      <td>tcp</td>\n",
       "      <td>http</td>\n",
       "      <td>SF</td>\n",
       "      <td>235</td>\n",
       "      <td>1337</td>\n",
       "      <td>0</td>\n",
       "      <td>0</td>\n",
       "      <td>0</td>\n",
       "      <td>0</td>\n",
       "      <td>...</td>\n",
       "      <td>29</td>\n",
       "      <td>1.0</td>\n",
       "      <td>0.0</td>\n",
       "      <td>0.03</td>\n",
       "      <td>0.0</td>\n",
       "      <td>0.0</td>\n",
       "      <td>0.0</td>\n",
       "      <td>0.0</td>\n",
       "      <td>0.0</td>\n",
       "      <td>normal.</td>\n",
       "    </tr>\n",
       "    <tr>\n",
       "      <th>3</th>\n",
       "      <td>0</td>\n",
       "      <td>tcp</td>\n",
       "      <td>http</td>\n",
       "      <td>SF</td>\n",
       "      <td>219</td>\n",
       "      <td>1337</td>\n",
       "      <td>0</td>\n",
       "      <td>0</td>\n",
       "      <td>0</td>\n",
       "      <td>0</td>\n",
       "      <td>...</td>\n",
       "      <td>39</td>\n",
       "      <td>1.0</td>\n",
       "      <td>0.0</td>\n",
       "      <td>0.03</td>\n",
       "      <td>0.0</td>\n",
       "      <td>0.0</td>\n",
       "      <td>0.0</td>\n",
       "      <td>0.0</td>\n",
       "      <td>0.0</td>\n",
       "      <td>normal.</td>\n",
       "    </tr>\n",
       "    <tr>\n",
       "      <th>4</th>\n",
       "      <td>0</td>\n",
       "      <td>tcp</td>\n",
       "      <td>http</td>\n",
       "      <td>SF</td>\n",
       "      <td>217</td>\n",
       "      <td>2032</td>\n",
       "      <td>0</td>\n",
       "      <td>0</td>\n",
       "      <td>0</td>\n",
       "      <td>0</td>\n",
       "      <td>...</td>\n",
       "      <td>49</td>\n",
       "      <td>1.0</td>\n",
       "      <td>0.0</td>\n",
       "      <td>0.02</td>\n",
       "      <td>0.0</td>\n",
       "      <td>0.0</td>\n",
       "      <td>0.0</td>\n",
       "      <td>0.0</td>\n",
       "      <td>0.0</td>\n",
       "      <td>normal.</td>\n",
       "    </tr>\n",
       "  </tbody>\n",
       "</table>\n",
       "<p>5 rows × 42 columns</p>\n",
       "</div>"
      ],
      "text/plain": [
       "   index protocol_type service flag  src_bytes  dst_bytes  land  \\\n",
       "0      0           tcp    http   SF        181       5450     0   \n",
       "1      0           tcp    http   SF        239        486     0   \n",
       "2      0           tcp    http   SF        235       1337     0   \n",
       "3      0           tcp    http   SF        219       1337     0   \n",
       "4      0           tcp    http   SF        217       2032     0   \n",
       "\n",
       "   wrong_fragment  urgent  hot   ...     dst_host_srv_count  \\\n",
       "0               0       0    0   ...                      9   \n",
       "1               0       0    0   ...                     19   \n",
       "2               0       0    0   ...                     29   \n",
       "3               0       0    0   ...                     39   \n",
       "4               0       0    0   ...                     49   \n",
       "\n",
       "   dst_host_same_srv_rate  dst_host_diff_srv_rate  \\\n",
       "0                     1.0                     0.0   \n",
       "1                     1.0                     0.0   \n",
       "2                     1.0                     0.0   \n",
       "3                     1.0                     0.0   \n",
       "4                     1.0                     0.0   \n",
       "\n",
       "   dst_host_same_src_port_rate  dst_host_srv_diff_host_rate  \\\n",
       "0                         0.11                          0.0   \n",
       "1                         0.05                          0.0   \n",
       "2                         0.03                          0.0   \n",
       "3                         0.03                          0.0   \n",
       "4                         0.02                          0.0   \n",
       "\n",
       "   dst_host_serror_rate  dst_host_srv_serror_rate  dst_host_rerror_rate  \\\n",
       "0                   0.0                       0.0                   0.0   \n",
       "1                   0.0                       0.0                   0.0   \n",
       "2                   0.0                       0.0                   0.0   \n",
       "3                   0.0                       0.0                   0.0   \n",
       "4                   0.0                       0.0                   0.0   \n",
       "\n",
       "   dst_host_srv_rerror_rate    label  \n",
       "0                       0.0  normal.  \n",
       "1                       0.0  normal.  \n",
       "2                       0.0  normal.  \n",
       "3                       0.0  normal.  \n",
       "4                       0.0  normal.  \n",
       "\n",
       "[5 rows x 42 columns]"
      ]
     },
     "execution_count": 26,
     "metadata": {},
     "output_type": "execute_result"
    }
   ],
   "source": [
    "raw_df.head()"
   ]
  },
  {
   "cell_type": "code",
   "execution_count": 27,
   "metadata": {
    "collapsed": true
   },
   "outputs": [],
   "source": [
    "# remove \". \" from labels\n",
    "\n",
    "raw_df['label'] = raw_df['label'].apply(lambda x: x[:-1])"
   ]
  },
  {
   "cell_type": "code",
   "execution_count": 28,
   "metadata": {},
   "outputs": [
    {
     "data": {
      "text/plain": [
       "23"
      ]
     },
     "execution_count": 28,
     "metadata": {},
     "output_type": "execute_result"
    }
   ],
   "source": [
    "raw_df['label'].nunique()"
   ]
  },
  {
   "cell_type": "code",
   "execution_count": 29,
   "metadata": {
    "collapsed": true
   },
   "outputs": [],
   "source": [
    "# drop duplicate records\n",
    "\n",
    "raw_df.drop_duplicates(inplace = True)"
   ]
  },
  {
   "cell_type": "code",
   "execution_count": 30,
   "metadata": {},
   "outputs": [
    {
     "data": {
      "text/plain": [
       "(array([ 0,  1,  2,  3,  4,  5,  6,  7,  8,  9, 10, 11, 12, 13, 14, 15, 16,\n",
       "        17, 18, 19, 20, 21, 22]), <a list of 23 Text xticklabel objects>)"
      ]
     },
     "execution_count": 30,
     "metadata": {},
     "output_type": "execute_result"
    },
    {
     "data": {
      "image/png": "[encoded data removed]",
      "text/plain": [
       "<matplotlib.figure.Figure at 0x10e0711d0>"
      ]
     },
     "metadata": {},
     "output_type": "display_data"
    }
   ],
   "source": [
    "# distribution of labels\n",
    "\n",
    "sns.set_color_codes()\n",
    "\n",
    "fig, ax1 = plt.subplots(1,1, figsize = (18,6))\n",
    "\n",
    "sns.countplot('label', data = raw_df,palette=\"Set2\", ax = ax1)\n",
    "plt.xticks(rotation=30)"
   ]
  },
  {
   "cell_type": "code",
   "execution_count": 31,
   "metadata": {},
   "outputs": [
    {
     "name": "stdout",
     "output_type": "stream",
     "text": [
      "0    normal\n",
      "1    normal\n",
      "2    normal\n",
      "3    normal\n",
      "4    normal\n",
      "Name: label_attack_type, dtype: object\n"
     ]
    },
    {
     "data": {
      "text/plain": [
       "normal    87839\n",
       "dos       54572\n",
       "probes     2131\n",
       "rtl         991\n",
       "utr          52\n",
       "Name: label_attack_type, dtype: int64"
      ]
     },
     "execution_count": 31,
     "metadata": {},
     "output_type": "execute_result"
    }
   ],
   "source": [
    "# combining labels as normal, denial of Service, user to root, remote to local, probes\n",
    "\n",
    "def label_grouping(label):\n",
    "    if label in ['back', 'land', 'neptune', 'pod', 'smurf', 'teardrop']: \n",
    "        return 'dos'\n",
    "    elif label in ['buffer_overflow', 'loadmodule','perl', 'rootkit']:\n",
    "        return 'utr'\n",
    "    elif label in ['Ftp_write', 'guess_passwd', 'imap', 'multihop', 'phf', 'spy','warezclient', 'warezmaster']:\n",
    "        return 'rtl'\n",
    "    elif label in ['satan', 'ipsweep', 'nmap', 'portsweep']:\n",
    "        return 'probes'\n",
    "    else:\n",
    "        return 'normal'\n",
    "\n",
    "raw_df['label_attack_type']= raw_df['label'].apply(label_grouping)\n",
    "print(raw_df['label_attack_type'].head())\n",
    "raw_df['label_attack_type'].value_counts()"
   ]
  },
  {
   "cell_type": "code",
   "execution_count": 32,
   "metadata": {},
   "outputs": [
    {
     "data": {
      "text/plain": [
       "(array([0, 1, 2, 3, 4]), <a list of 5 Text xticklabel objects>)"
      ]
     },
     "execution_count": 32,
     "metadata": {},
     "output_type": "execute_result"
    },
    {
     "data": {
      "image/png": "[encoded data removed]",
      "text/plain": [
       "<matplotlib.figure.Figure at 0x10e0710b8>"
      ]
     },
     "metadata": {},
     "output_type": "display_data"
    }
   ],
   "source": [
    "# distribution of label_attack_type\n",
    "\n",
    "fig, ax1 = plt.subplots(1,1, figsize = (18,6))\n",
    "\n",
    "sns.countplot('label_attack_type', data = raw_df,palette=\"Set2\", ax = ax1)\n",
    "plt.xticks(rotation=10)"
   ]
  },
  {
   "cell_type": "code",
   "execution_count": 33,
   "metadata": {},
   "outputs": [
    {
     "data": {
      "text/plain": [
       "Index(['index', 'protocol_type', 'service', 'flag', 'src_bytes', 'dst_bytes',\n",
       "       'land', 'wrong_fragment', 'urgent', 'hot', 'num_failed_logins',\n",
       "       'logged_in', 'num_compromised', 'root_shell', 'su_attempted',\n",
       "       'num_root', 'num_file_creations', 'num_shells', 'num_access_files',\n",
       "       'num_outbound_cmds', 'is_host_login', 'is_guest_login', 'count',\n",
       "       'srv_count', 'serror_rate', 'srv_serror_rate', 'rerror_rate',\n",
       "       'srv_rerror_rate', 'same_srv_rate', 'diff_srv_rate',\n",
       "       'srv_diff_host_rate', 'dst_host_count', 'dst_host_srv_count',\n",
       "       'dst_host_same_srv_rate', 'dst_host_diff_srv_rate',\n",
       "       'dst_host_same_src_port_rate', 'dst_host_srv_diff_host_rate',\n",
       "       'dst_host_serror_rate', 'dst_host_srv_serror_rate',\n",
       "       'dst_host_rerror_rate', 'dst_host_srv_rerror_rate', 'label',\n",
       "       'label_attack_type'],\n",
       "      dtype='object')"
      ]
     },
     "execution_count": 33,
     "metadata": {},
     "output_type": "execute_result"
    }
   ],
   "source": [
    "raw_df.columns"
   ]
  },
  {
   "cell_type": "code",
   "execution_count": 34,
   "metadata": {},
   "outputs": [
    {
     "data": {
      "image/png": "[encoded data removed]",
      "text/plain": [
       "<matplotlib.figure.Figure at 0x10a01c6a0>"
      ]
     },
     "metadata": {},
     "output_type": "display_data"
    },
    {
     "data": {
      "image/png": "[encoded data removed]",
      "text/plain": [
       "<matplotlib.figure.Figure at 0x111bea3c8>"
      ]
     },
     "metadata": {},
     "output_type": "display_data"
    },
    {
     "data": {
      "image/png": "[encoded data removed]",
      "text/plain": [
       "<matplotlib.figure.Figure at 0x10a026b38>"
      ]
     },
     "metadata": {},
     "output_type": "display_data"
    },
    {
     "data": {
      "image/png": "[encoded data removed]",
      "text/plain": [
       "<matplotlib.figure.Figure at 0x10a01ec50>"
      ]
     },
     "metadata": {},
     "output_type": "display_data"
    },
    {
     "data": {
      "image/png": "[encoded data removed]",
      "text/plain": [
       "<matplotlib.figure.Figure at 0x10ab76320>"
      ]
     },
     "metadata": {},
     "output_type": "display_data"
    },
    {
     "data": {
      "image/png": "[encoded data removed]",
      "text/plain": [
       "<matplotlib.figure.Figure at 0x10aa98cc0>"
      ]
     },
     "metadata": {},
     "output_type": "display_data"
    }
   ],
   "source": [
    "# distribution of categorical variables with 'label_attack_type'\n",
    "\n",
    "sns.set()\n",
    "\n",
    "categorical_cols = ['protocol_type','flag','land','logged_in','is_host_login','is_guest_login']\n",
    "\n",
    "for i,col in enumerate(categorical_cols):\n",
    "    plt.figure()\n",
    "    sns.countplot(x=col, hue=\"label_attack_type\",data=raw_df, palette=\"Set2\")\n",
    "    plt.savefig('{0}.pdf'.format(i))"
   ]
  },
  {
   "cell_type": "code",
   "execution_count": 35,
   "metadata": {},
   "outputs": [
    {
     "data": {
      "text/plain": [
       "0    87839\n",
       "1    54572\n",
       "4     2131\n",
       "3      991\n",
       "2       52\n",
       "Name: label_encoding, dtype: int64"
      ]
     },
     "execution_count": 35,
     "metadata": {},
     "output_type": "execute_result"
    }
   ],
   "source": [
    "def encoding_label(label):\n",
    "    if label == 'dos':\n",
    "        return 1\n",
    "    elif label == 'utr':\n",
    "        return 2\n",
    "    elif label == 'rtl':\n",
    "        return 3\n",
    "    elif label == 'probes':\n",
    "        return 4\n",
    "    else:\n",
    "        return 0\n",
    "\n",
    "raw_df['label_encoding']= raw_df['label_attack_type'].apply(encoding_label)\n",
    "raw_df['label_encoding'].value_counts()"
   ]
  },
  {
   "cell_type": "code",
   "execution_count": 36,
   "metadata": {
    "collapsed": true
   },
   "outputs": [],
   "source": [
    "#one hot encoding of categorical variables\n",
    "\n",
    "temp1 = pd.get_dummies(raw_df['flag'],prefix = 'flag')\n",
    "temp2 = pd.get_dummies(raw_df['service'],prefix = 'service')\n",
    "temp3 = pd.get_dummies(raw_df['protocol_type'],prefix = 'protocol')\n",
    "\n",
    "# concat with blm dataframe\n",
    "\n",
    "raw_df = pd.concat([raw_df, temp1,temp2,temp3], axis =1 )"
   ]
  },
  {
   "cell_type": "code",
   "execution_count": 37,
   "metadata": {},
   "outputs": [
    {
     "data": {
      "text/html": [
       "<div>\n",
       "<style>\n",
       "    .dataframe thead tr:only-child th {\n",
       "        text-align: right;\n",
       "    }\n",
       "\n",
       "    .dataframe thead th {\n",
       "        text-align: left;\n",
       "    }\n",
       "\n",
       "    .dataframe tbody tr th {\n",
       "        vertical-align: top;\n",
       "    }\n",
       "</style>\n",
       "<table border=\"1\" class=\"dataframe\">\n",
       "  <thead>\n",
       "    <tr style=\"text-align: right;\">\n",
       "      <th></th>\n",
       "      <th>index</th>\n",
       "      <th>protocol_type</th>\n",
       "      <th>service</th>\n",
       "      <th>flag</th>\n",
       "      <th>src_bytes</th>\n",
       "      <th>dst_bytes</th>\n",
       "      <th>land</th>\n",
       "      <th>wrong_fragment</th>\n",
       "      <th>urgent</th>\n",
       "      <th>hot</th>\n",
       "      <th>...</th>\n",
       "      <th>service_time</th>\n",
       "      <th>service_urh_i</th>\n",
       "      <th>service_urp_i</th>\n",
       "      <th>service_uucp</th>\n",
       "      <th>service_uucp_path</th>\n",
       "      <th>service_vmnet</th>\n",
       "      <th>service_whois</th>\n",
       "      <th>protocol_icmp</th>\n",
       "      <th>protocol_tcp</th>\n",
       "      <th>protocol_udp</th>\n",
       "    </tr>\n",
       "  </thead>\n",
       "  <tbody>\n",
       "    <tr>\n",
       "      <th>0</th>\n",
       "      <td>0</td>\n",
       "      <td>tcp</td>\n",
       "      <td>http</td>\n",
       "      <td>SF</td>\n",
       "      <td>181</td>\n",
       "      <td>5450</td>\n",
       "      <td>0</td>\n",
       "      <td>0</td>\n",
       "      <td>0</td>\n",
       "      <td>0</td>\n",
       "      <td>...</td>\n",
       "      <td>0</td>\n",
       "      <td>0</td>\n",
       "      <td>0</td>\n",
       "      <td>0</td>\n",
       "      <td>0</td>\n",
       "      <td>0</td>\n",
       "      <td>0</td>\n",
       "      <td>0</td>\n",
       "      <td>1</td>\n",
       "      <td>0</td>\n",
       "    </tr>\n",
       "    <tr>\n",
       "      <th>1</th>\n",
       "      <td>0</td>\n",
       "      <td>tcp</td>\n",
       "      <td>http</td>\n",
       "      <td>SF</td>\n",
       "      <td>239</td>\n",
       "      <td>486</td>\n",
       "      <td>0</td>\n",
       "      <td>0</td>\n",
       "      <td>0</td>\n",
       "      <td>0</td>\n",
       "      <td>...</td>\n",
       "      <td>0</td>\n",
       "      <td>0</td>\n",
       "      <td>0</td>\n",
       "      <td>0</td>\n",
       "      <td>0</td>\n",
       "      <td>0</td>\n",
       "      <td>0</td>\n",
       "      <td>0</td>\n",
       "      <td>1</td>\n",
       "      <td>0</td>\n",
       "    </tr>\n",
       "    <tr>\n",
       "      <th>2</th>\n",
       "      <td>0</td>\n",
       "      <td>tcp</td>\n",
       "      <td>http</td>\n",
       "      <td>SF</td>\n",
       "      <td>235</td>\n",
       "      <td>1337</td>\n",
       "      <td>0</td>\n",
       "      <td>0</td>\n",
       "      <td>0</td>\n",
       "      <td>0</td>\n",
       "      <td>...</td>\n",
       "      <td>0</td>\n",
       "      <td>0</td>\n",
       "      <td>0</td>\n",
       "      <td>0</td>\n",
       "      <td>0</td>\n",
       "      <td>0</td>\n",
       "      <td>0</td>\n",
       "      <td>0</td>\n",
       "      <td>1</td>\n",
       "      <td>0</td>\n",
       "    </tr>\n",
       "    <tr>\n",
       "      <th>3</th>\n",
       "      <td>0</td>\n",
       "      <td>tcp</td>\n",
       "      <td>http</td>\n",
       "      <td>SF</td>\n",
       "      <td>219</td>\n",
       "      <td>1337</td>\n",
       "      <td>0</td>\n",
       "      <td>0</td>\n",
       "      <td>0</td>\n",
       "      <td>0</td>\n",
       "      <td>...</td>\n",
       "      <td>0</td>\n",
       "      <td>0</td>\n",
       "      <td>0</td>\n",
       "      <td>0</td>\n",
       "      <td>0</td>\n",
       "      <td>0</td>\n",
       "      <td>0</td>\n",
       "      <td>0</td>\n",
       "      <td>1</td>\n",
       "      <td>0</td>\n",
       "    </tr>\n",
       "    <tr>\n",
       "      <th>4</th>\n",
       "      <td>0</td>\n",
       "      <td>tcp</td>\n",
       "      <td>http</td>\n",
       "      <td>SF</td>\n",
       "      <td>217</td>\n",
       "      <td>2032</td>\n",
       "      <td>0</td>\n",
       "      <td>0</td>\n",
       "      <td>0</td>\n",
       "      <td>0</td>\n",
       "      <td>...</td>\n",
       "      <td>0</td>\n",
       "      <td>0</td>\n",
       "      <td>0</td>\n",
       "      <td>0</td>\n",
       "      <td>0</td>\n",
       "      <td>0</td>\n",
       "      <td>0</td>\n",
       "      <td>0</td>\n",
       "      <td>1</td>\n",
       "      <td>0</td>\n",
       "    </tr>\n",
       "  </tbody>\n",
       "</table>\n",
       "<p>5 rows × 124 columns</p>\n",
       "</div>"
      ],
      "text/plain": [
       "   index protocol_type service flag  src_bytes  dst_bytes  land  \\\n",
       "0      0           tcp    http   SF        181       5450     0   \n",
       "1      0           tcp    http   SF        239        486     0   \n",
       "2      0           tcp    http   SF        235       1337     0   \n",
       "3      0           tcp    http   SF        219       1337     0   \n",
       "4      0           tcp    http   SF        217       2032     0   \n",
       "\n",
       "   wrong_fragment  urgent  hot      ...       service_time  service_urh_i  \\\n",
       "0               0       0    0      ...                  0              0   \n",
       "1               0       0    0      ...                  0              0   \n",
       "2               0       0    0      ...                  0              0   \n",
       "3               0       0    0      ...                  0              0   \n",
       "4               0       0    0      ...                  0              0   \n",
       "\n",
       "   service_urp_i  service_uucp  service_uucp_path  service_vmnet  \\\n",
       "0              0             0                  0              0   \n",
       "1              0             0                  0              0   \n",
       "2              0             0                  0              0   \n",
       "3              0             0                  0              0   \n",
       "4              0             0                  0              0   \n",
       "\n",
       "   service_whois  protocol_icmp  protocol_tcp  protocol_udp  \n",
       "0              0              0             1             0  \n",
       "1              0              0             1             0  \n",
       "2              0              0             1             0  \n",
       "3              0              0             1             0  \n",
       "4              0              0             1             0  \n",
       "\n",
       "[5 rows x 124 columns]"
      ]
     },
     "execution_count": 37,
     "metadata": {},
     "output_type": "execute_result"
    }
   ],
   "source": [
    "raw_df.head()"
   ]
  },
  {
   "cell_type": "code",
   "execution_count": 38,
   "metadata": {
    "collapsed": true
   },
   "outputs": [],
   "source": [
    "# Usual way of splitting data into test and train\n",
    "\n",
    "# idx = int(raw_df.shape[0]* 0.70)\n",
    "# train = raw_df[:idx]\n",
    "# test = raw_df[idx:]"
   ]
  },
  {
   "cell_type": "markdown",
   "metadata": {},
   "source": [
    "#### Stratified sampling"
   ]
  },
  {
   "cell_type": "code",
   "execution_count": 39,
   "metadata": {
    "collapsed": true
   },
   "outputs": [],
   "source": [
    "# split into train and test datasets\n",
    "\n",
    "predictors = [c for c in raw_df.columns if c not in ['label', 'label_attack_type', 'index', 'protocol_type',\n",
    "                                                   'flag','service','is_host_login','label_encoding']]\n",
    "\n",
    "X = raw_df[predictors]\n",
    "y = raw_df['label_encoding']\n",
    "\n",
    "X_train, X_test, y_train, y_test = train_test_split(X, y, test_size=0.30, random_state=3, stratify = y)"
   ]
  },
  {
   "cell_type": "code",
   "execution_count": 40,
   "metadata": {},
   "outputs": [
    {
     "name": "stdout",
     "output_type": "stream",
     "text": [
      "0    26352\n",
      "1    16372\n",
      "4      639\n",
      "3      297\n",
      "2       16\n",
      "Name: label_encoding, dtype: int64\n"
     ]
    }
   ],
   "source": [
    "print(y_test.value_counts())"
   ]
  },
  {
   "cell_type": "code",
   "execution_count": 41,
   "metadata": {},
   "outputs": [
    {
     "name": "stdout",
     "output_type": "stream",
     "text": [
      "0    61487\n",
      "1    38200\n",
      "4     1492\n",
      "3      694\n",
      "2       36\n",
      "Name: label_encoding, dtype: int64\n"
     ]
    }
   ],
   "source": [
    "print(y_train.value_counts())"
   ]
  },
  {
   "cell_type": "markdown",
   "metadata": {},
   "source": [
    "### Decision Tree"
   ]
  },
  {
   "cell_type": "code",
   "execution_count": 42,
   "metadata": {},
   "outputs": [
    {
     "data": {
      "text/plain": [
       "DecisionTreeClassifier(class_weight=None, criterion='gini', max_depth=None,\n",
       "            max_features=None, max_leaf_nodes=None,\n",
       "            min_impurity_split=1e-07, min_samples_leaf=1,\n",
       "            min_samples_split=2, min_weight_fraction_leaf=0.0,\n",
       "            presort=False, random_state=3, splitter='best')"
      ]
     },
     "execution_count": 42,
     "metadata": {},
     "output_type": "execute_result"
    }
   ],
   "source": [
    "#create instance of decision tree\n",
    "\n",
    "dt = DecisionTreeClassifier(random_state = 3)\n",
    "dt.fit(X_train, y_train)"
   ]
  },
  {
   "cell_type": "code",
   "execution_count": 43,
   "metadata": {
    "collapsed": true
   },
   "outputs": [],
   "source": [
    "#making predictions\n",
    "\n",
    "predictions_dt = dt.predict(X_test)"
   ]
  },
  {
   "cell_type": "markdown",
   "metadata": {},
   "source": [
    "###### Metrics - Accuracy, precision, recall, F1 score, Confusion matrix"
   ]
  },
  {
   "cell_type": "code",
   "execution_count": 44,
   "metadata": {},
   "outputs": [
    {
     "name": "stdout",
     "output_type": "stream",
     "text": [
      "Accuracy is  0.998786518912\n",
      "Precision for each class is  [ 0.99897553  0.99993891  0.73333333  0.97278912  0.97975078]\n",
      "Recall/sensitivity for each class is  [ 0.99908925  0.99981676  0.6875      0.96296296  0.98435055]\n",
      "F1 Score for each class is  [ 0.99903239  0.99987783  0.70967742  0.9678511   0.98204528]\n",
      "confusion matrix is :-->\n",
      "[[26328     1     2     8    13]\n",
      " [    3 16369     0     0     0]\n",
      " [    5     0    11     0     0]\n",
      " [    9     0     2   286     0]\n",
      " [   10     0     0     0   629]]\n"
     ]
    }
   ],
   "source": [
    "# Accuracy\n",
    "\n",
    "acc_dt = accuracy_score(y_test,predictions_dt)\n",
    "print(\"Accuracy is \", acc_dt)\n",
    "\n",
    "# precision, recall, f1 score\n",
    "\n",
    "pr_dt, re_dt, f1_dt, s = precision_recall_fscore_support(y_test,predictions_dt)\n",
    "print('Precision for each class is ', pr_dt)\n",
    "print('Recall/sensitivity for each class is ', re_dt)\n",
    "print('F1 Score for each class is ', f1_dt)\n",
    "\n",
    "# confusion matrix\n",
    "\n",
    "confusion_dt = confusion_matrix(y_test,predictions_dt)\n",
    "print('confusion matrix is :-->')\n",
    "print(confusion_dt)"
   ]
  },
  {
   "cell_type": "markdown",
   "metadata": {},
   "source": [
    "### Using Straified K-Fold Cross Validation (Decision Tree)\n",
    "\n",
    "maintaining percentage of samples for each class"
   ]
  },
  {
   "cell_type": "code",
   "execution_count": 58,
   "metadata": {},
   "outputs": [
    {
     "name": "stdout",
     "output_type": "stream",
     "text": [
      "------------------------------\n",
      "Accuracy at 0-Fold is 0.998928519915\n",
      "Precision at 0-Fold is [ 0.99924866  0.99978014  0.61904762  0.97247706  0.98730606]\n",
      "Recall at 0-Fold is [ 0.99928279  0.99989006  0.72222222  0.96072508  0.98452883]\n",
      "F1 score at 0-Fold is [ 0.99926572  0.99983509  0.66666667  0.96656535  0.98591549]\n",
      "Confusion matrix at 0-Fold is :-->\n",
      "[[29259     3     3     7     8]\n",
      " [    1 18189     0     0     1]\n",
      " [    3     0    13     2     0]\n",
      " [    8     0     5   318     0]\n",
      " [   10     1     0     0   700]]\n",
      "------------------------------\n",
      "------------------------------\n",
      "Accuracy at 1-Fold is 0.998969666996\n",
      "Precision at 1-Fold is [ 0.99921453  0.99983507  0.55        0.97213622  0.99158485]\n",
      "Recall at 1-Fold is [ 0.99928279  0.99978011  0.64705882  0.95151515  0.99577465]\n",
      "F1 score at 1-Fold is [ 0.99924866  0.99980759  0.59459459  0.96171516  0.99367533]\n",
      "Confusion matrix at 1-Fold is :-->\n",
      "[[29259     1     7     9     4]\n",
      " [    4 18187     0     0     0]\n",
      " [    5     0    11     0     1]\n",
      " [   13     0     2   314     1]\n",
      " [    1     2     0     0   707]]\n",
      "------------------------------\n",
      "------------------------------\n",
      "Accuracy at 2-Fold is 0.998598689362\n",
      "Precision at 2-Fold is [ 0.99900946  0.99978009  0.34615385  0.96932515  0.98870056]\n",
      "Recall at 2-Fold is [ 0.99894122  0.99972512  0.52941176  0.95757576  0.98591549]\n",
      "F1 score at 2-Fold is [ 0.99897534  0.9997526   0.41860465  0.96341463  0.98730606]\n",
      "Confusion matrix at 2-Fold is :-->\n",
      "[[29248     4    15     7     5]\n",
      " [    4 18185     0     0     1]\n",
      " [    7     0     9     1     0]\n",
      " [   10     0     2   316     2]\n",
      " [    8     0     0     2   700]]\n",
      "------------------------------\n",
      "Average accuracy is 0.998832292091\n"
     ]
    }
   ],
   "source": [
    "dt = DecisionTreeClassifier(random_state = 3)\n",
    "skf = StratifiedKFold(n_splits = 3, shuffle = True, random_state = 2)\n",
    "predictions = []\n",
    "score = []\n",
    "\n",
    "for i, (train_index,test_index) in enumerate(skf.split(X,y)):\n",
    "\n",
    "    train_predictors = X.iloc[train_index]\n",
    "    train_target = y.iloc[train_index]\n",
    "    \n",
    "    test_predictors = X.iloc[test_index]\n",
    "    test_target = y.iloc[test_index]\n",
    "    \n",
    "    #fit the model\n",
    "    dt.fit(train_predictors,train_target)\n",
    "    \n",
    "    #make predictions\n",
    "    test_pred = dt.predict(test_predictors)\n",
    "   \n",
    "    accuracy = accuracy_score(test_target, test_pred)\n",
    "    score.append(accuracy)\n",
    "    \n",
    "    p, r, f1, support = precision_recall_fscore_support(test_target, test_pred)\n",
    "    confusion = confusion_matrix(test_target, test_pred)\n",
    "    \n",
    "    print('------------------------------')\n",
    "    print('Accuracy at {0}-Fold is'.format(i),accuracy)\n",
    "    print('Precision at {0}-Fold is'.format(i), p)\n",
    "    print('Recall at {0}-Fold is'.format(i), r)\n",
    "    print('F1 score at {0}-Fold is'.format(i), f1)\n",
    "    print('Confusion matrix at {0}-Fold is :-->'.format(i))\n",
    "    print(confusion)\n",
    "    print('------------------------------')\n",
    "    \n",
    "#calculating average accuracy , precision, recall, F1 score   \n",
    "print('Average accuracy is', np.mean(score))\n",
    "\n"
   ]
  },
  {
   "cell_type": "markdown",
   "metadata": {},
   "source": [
    "### Random Forest Model"
   ]
  },
  {
   "cell_type": "code",
   "execution_count": null,
   "metadata": {
    "collapsed": true
   },
   "outputs": [],
   "source": [
    "#stratified sampling\n",
    "\n",
    "# sss = StratifiedShuffleSplit(n_splits=3, test_size=0.30, random_state=4)\n",
    "# for train_index, test_index in sss.split(X, y):\n",
    "#     X_train, X_test = X[train_index], X[test_index]\n",
    "#     y_train, y_test = y[train_index], y[test_index]\n",
    "\n",
    "rfc = RandomForestClassifier(n_estimators=1000,n_jobs = -1, random_state=3)"
   ]
  },
  {
   "cell_type": "code",
   "execution_count": null,
   "metadata": {
    "collapsed": true
   },
   "outputs": [],
   "source": [
    "# fitting data to random forest model\n",
    "\n",
    "rfc.fit(X_train,y_train)"
   ]
  },
  {
   "cell_type": "code",
   "execution_count": null,
   "metadata": {
    "collapsed": true
   },
   "outputs": [],
   "source": [
    "# predictions\n",
    "\n",
    "predictions_rfc = rfc.predict(X_test)\n",
    "predictions_rfc"
   ]
  },
  {
   "cell_type": "code",
   "execution_count": null,
   "metadata": {
    "collapsed": true
   },
   "outputs": [],
   "source": [
    "# classes predicted by classifier\n",
    "\n",
    "np.unique(predictions_rfc)"
   ]
  },
  {
   "cell_type": "markdown",
   "metadata": {},
   "source": [
    "###### Metrics - Accuracy, precision, recall, F1 score, Confusion matrix, roc_auc "
   ]
  },
  {
   "cell_type": "code",
   "execution_count": null,
   "metadata": {
    "collapsed": true
   },
   "outputs": [],
   "source": [
    "# Accuracy\n",
    "\n",
    "acc_rfc = accuracy_score(y_test,predictions_rfc)\n",
    "print(\"Accuracy is \", acc_rfc)\n",
    "\n",
    "# precision, recall, f1 score\n",
    "\n",
    "pr_rfc, re_rfc, f1_rfc, s = precision_recall_fscore_support(y_test,predictions_rfc)\n",
    "print('Precision for each class is ', pr_rfc)\n",
    "print('Recall/sensitivity for each class is ', re_rfc)\n",
    "print('F1 Score for each class is ', f1_rfc)\n",
    "\n",
    "# confusion matrix\n",
    "\n",
    "confusion_rfc = confusion_matrix(y_test,predictions_rfc)\n",
    "print('confusion matrix is :-->')\n",
    "print(confusion_rfc)"
   ]
  },
  {
   "cell_type": "markdown",
   "metadata": {
    "collapsed": true
   },
   "source": [
    "### XGBoost"
   ]
  },
  {
   "cell_type": "code",
   "execution_count": null,
   "metadata": {
    "collapsed": true
   },
   "outputs": [],
   "source": [
    "clf = XGBClassifier(learning_rate =0.1,n_estimators=1000,max_depth=5,min_child_weight=1,gamma=0,subsample=0.8,\n",
    "                    colsample_bytree=0.8, objective= 'multi:softprob',scale_pos_weight=1,random_state=3, n_jobs=-1)"
   ]
  },
  {
   "cell_type": "code",
   "execution_count": null,
   "metadata": {
    "collapsed": true
   },
   "outputs": [],
   "source": [
    "# fitting data to xgboost\n",
    "\n",
    "clf.fit(X_train,y_train)"
   ]
  },
  {
   "cell_type": "code",
   "execution_count": null,
   "metadata": {
    "collapsed": true
   },
   "outputs": [],
   "source": [
    "# dump model to file\n",
    "\n",
    "joblib.dump(clf, 'xgboost1000.pkl')"
   ]
  },
  {
   "cell_type": "code",
   "execution_count": 3,
   "metadata": {},
   "outputs": [
    {
     "ename": "FileNotFoundError",
     "evalue": "[Errno 2] No such file or directory: 'xgboost1000.pkl'",
     "output_type": "error",
     "traceback": [
      "\u001b[0;31m---------------------------------------------------------------------------\u001b[0m",
      "\u001b[0;31mFileNotFoundError\u001b[0m                         Traceback (most recent call last)",
      "\u001b[0;32m<ipython-input-3-4b0a269075ad>\u001b[0m in \u001b[0;36m<module>\u001b[0;34m()\u001b[0m\n\u001b[1;32m      1\u001b[0m \u001b[0;31m# load model file\u001b[0m\u001b[0;34m\u001b[0m\u001b[0;34m\u001b[0m\u001b[0m\n\u001b[1;32m      2\u001b[0m \u001b[0;34m\u001b[0m\u001b[0m\n\u001b[0;32m----> 3\u001b[0;31m \u001b[0mclf\u001b[0m \u001b[0;34m=\u001b[0m \u001b[0mjoblib\u001b[0m\u001b[0;34m.\u001b[0m\u001b[0mload\u001b[0m\u001b[0;34m(\u001b[0m\u001b[0;34m'xgboost1000.pkl'\u001b[0m\u001b[0;34m)\u001b[0m\u001b[0;34m\u001b[0m\u001b[0m\n\u001b[0m",
      "\u001b[0;32m/usr/local/lib/python3.5/site-packages/sklearn/externals/joblib/numpy_pickle.py\u001b[0m in \u001b[0;36mload\u001b[0;34m(filename, mmap_mode)\u001b[0m\n\u001b[1;32m    565\u001b[0m             \u001b[0mobj\u001b[0m \u001b[0;34m=\u001b[0m \u001b[0m_unpickle\u001b[0m\u001b[0;34m(\u001b[0m\u001b[0mfobj\u001b[0m\u001b[0;34m)\u001b[0m\u001b[0;34m\u001b[0m\u001b[0m\n\u001b[1;32m    566\u001b[0m     \u001b[0;32melse\u001b[0m\u001b[0;34m:\u001b[0m\u001b[0;34m\u001b[0m\u001b[0m\n\u001b[0;32m--> 567\u001b[0;31m         \u001b[0;32mwith\u001b[0m \u001b[0mopen\u001b[0m\u001b[0;34m(\u001b[0m\u001b[0mfilename\u001b[0m\u001b[0;34m,\u001b[0m \u001b[0;34m'rb'\u001b[0m\u001b[0;34m)\u001b[0m \u001b[0;32mas\u001b[0m \u001b[0mf\u001b[0m\u001b[0;34m:\u001b[0m\u001b[0;34m\u001b[0m\u001b[0m\n\u001b[0m\u001b[1;32m    568\u001b[0m             \u001b[0;32mwith\u001b[0m \u001b[0m_read_fileobject\u001b[0m\u001b[0;34m(\u001b[0m\u001b[0mf\u001b[0m\u001b[0;34m,\u001b[0m \u001b[0mfilename\u001b[0m\u001b[0;34m,\u001b[0m \u001b[0mmmap_mode\u001b[0m\u001b[0;34m)\u001b[0m \u001b[0;32mas\u001b[0m \u001b[0mfobj\u001b[0m\u001b[0;34m:\u001b[0m\u001b[0;34m\u001b[0m\u001b[0m\n\u001b[1;32m    569\u001b[0m                 \u001b[0;32mif\u001b[0m \u001b[0misinstance\u001b[0m\u001b[0;34m(\u001b[0m\u001b[0mfobj\u001b[0m\u001b[0;34m,\u001b[0m \u001b[0m_basestring\u001b[0m\u001b[0;34m)\u001b[0m\u001b[0;34m:\u001b[0m\u001b[0;34m\u001b[0m\u001b[0m\n",
      "\u001b[0;31mFileNotFoundError\u001b[0m: [Errno 2] No such file or directory: 'xgboost1000.pkl'"
     ]
    }
   ],
   "source": [
    "# load model file\n",
    "\n",
    "clf = joblib.load('xgboost1000.pkl')"
   ]
  },
  {
   "cell_type": "code",
   "execution_count": null,
   "metadata": {
    "collapsed": true
   },
   "outputs": [],
   "source": [
    "#make predictions\n",
    "\n",
    "predictions_clf = clf.predict(X_test)\n",
    "np.unique(predictions_clf)"
   ]
  },
  {
   "cell_type": "code",
   "execution_count": null,
   "metadata": {
    "collapsed": true
   },
   "outputs": [],
   "source": [
    "# Accuracy\n",
    "\n",
    "acc_clf = accuracy_score(y_test,predictions_clf)\n",
    "print(\"Accuracy is \", acc_clf)\n",
    "\n",
    "# precision, recall, f1 score\n",
    "\n",
    "pr_clf, re_clf, f1_clf, s = precision_recall_fscore_support(y_test,predictions_clf)\n",
    "print('Precision for each class is ', pr_clf)\n",
    "print('Recall/sensitivity for each class is ', re_clf)\n",
    "print('F1 Score for each class is ', f1_clf)\n",
    "\n",
    "# confusion matrix\n",
    "\n",
    "confusion_clf = confusion_matrix(y_test,predictions_clf)\n",
    "print('confusion matrix is :-->')\n",
    "print(confusion_clf)"
   ]
  },
  {
   "cell_type": "code",
   "execution_count": null,
   "metadata": {
    "collapsed": true
   },
   "outputs": [],
   "source": []
  }
 ],
 "metadata": {
  "kernelspec": {
   "display_name": "Python 3",
   "language": "python",
   "name": "python3"
  },
  "language_info": {
   "codemirror_mode": {
    "name": "ipython",
    "version": 3
   },
   "file_extension": ".py",
   "mimetype": "text/x-python",
   "name": "python",
   "nbconvert_exporter": "python",
   "pygments_lexer": "ipython3",
   "version": "3.5.2"
  }
 },
 "nbformat": 4,
 "nbformat_minor": 2
}
